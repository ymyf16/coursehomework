{
 "cells": [
  {
   "cell_type": "markdown",
   "metadata": {},
   "source": [
    "# 1. Partial Correlations\n",
    "\n",
    "Modify the code of the `partial_cor()` function from Class 09d, so that it takes as input a correlation matrix and the name of one variable, and returns the partial correlation for each pair of variables controlled for the variable you passed to the function.\n",
    "\n",
    "For example, if you use the correlation matrices that we calculated in Class 9d, you could use the function by calling: `partial_cor(cor1, CAI)`, this would return the partial correlation of each pair of variables (minus CAI) controlled by CAI.\n",
    "\n",
    "To do this, please save the `result` dataframe from Class 9d to a file, copy the file to the homework directory, read the file into a datframe, calculate the correlation matrix, and finally test your function."
   ]
  },
  {
   "attachments": {},
   "cell_type": "markdown",
   "metadata": {},
   "source": [
    "Get the columns first\n",
    "remove the control\n",
    "\n",
    "for i in col:\n",
    "    for s in col:\n",
    "        partialcorr(data, i, j, control (?))"
   ]
  },
  {
   "cell_type": "code",
   "execution_count": 2,
   "metadata": {
    "collapsed": true
   },
   "outputs": [
    {
     "name": "stderr",
     "output_type": "stream",
     "text": [
      "/var/folders/hx/mhvsgnnd2s3_cc4f_0smyv800000gn/T/ipykernel_20623/2410760689.py:9: RuntimeWarning: invalid value encountered in double_scalars\n",
      "  rdk = ((cor[x][y]-cor[x][z]*cor[y][z])/\n"
     ]
    },
    {
     "data": {
      "text/html": [
       "<div>\n",
       "<style scoped>\n",
       "    .dataframe tbody tr th:only-of-type {\n",
       "        vertical-align: middle;\n",
       "    }\n",
       "\n",
       "    .dataframe tbody tr th {\n",
       "        vertical-align: top;\n",
       "    }\n",
       "\n",
       "    .dataframe thead th {\n",
       "        text-align: right;\n",
       "    }\n",
       "</style>\n",
       "<table border=\"1\" class=\"dataframe\">\n",
       "  <thead>\n",
       "    <tr style=\"text-align: right;\">\n",
       "      <th></th>\n",
       "      <th>0</th>\n",
       "      <th>1</th>\n",
       "      <th>2</th>\n",
       "    </tr>\n",
       "  </thead>\n",
       "  <tbody>\n",
       "    <tr>\n",
       "      <th>0</th>\n",
       "      <td>dS</td>\n",
       "      <td>dN</td>\n",
       "      <td>0.334624</td>\n",
       "    </tr>\n",
       "    <tr>\n",
       "      <th>1</th>\n",
       "      <td>dS</td>\n",
       "      <td>dN/dS</td>\n",
       "      <td>0.081485</td>\n",
       "    </tr>\n",
       "    <tr>\n",
       "      <th>2</th>\n",
       "      <td>dS</td>\n",
       "      <td>dS adjusted</td>\n",
       "      <td>1.000000</td>\n",
       "    </tr>\n",
       "    <tr>\n",
       "      <th>3</th>\n",
       "      <td>dS</td>\n",
       "      <td>dN/dS adjusted</td>\n",
       "      <td>0.145174</td>\n",
       "    </tr>\n",
       "    <tr>\n",
       "      <th>4</th>\n",
       "      <td>dS</td>\n",
       "      <td>fitness</td>\n",
       "      <td>0.072793</td>\n",
       "    </tr>\n",
       "    <tr>\n",
       "      <th>...</th>\n",
       "      <td>...</td>\n",
       "      <td>...</td>\n",
       "      <td>...</td>\n",
       "    </tr>\n",
       "    <tr>\n",
       "      <th>105</th>\n",
       "      <td>fdNdSadj</td>\n",
       "      <td>fitness</td>\n",
       "      <td>0.223637</td>\n",
       "    </tr>\n",
       "    <tr>\n",
       "      <th>106</th>\n",
       "      <td>fdNdSadj</td>\n",
       "      <td>fdS</td>\n",
       "      <td>0.154180</td>\n",
       "    </tr>\n",
       "    <tr>\n",
       "      <th>107</th>\n",
       "      <td>fdNdSadj</td>\n",
       "      <td>fdN</td>\n",
       "      <td>0.985984</td>\n",
       "    </tr>\n",
       "    <tr>\n",
       "      <th>108</th>\n",
       "      <td>fdNdSadj</td>\n",
       "      <td>fdNdS</td>\n",
       "      <td>0.990333</td>\n",
       "    </tr>\n",
       "    <tr>\n",
       "      <th>109</th>\n",
       "      <td>fdNdSadj</td>\n",
       "      <td>fdSadj</td>\n",
       "      <td>0.213110</td>\n",
       "    </tr>\n",
       "  </tbody>\n",
       "</table>\n",
       "<p>110 rows × 3 columns</p>\n",
       "</div>"
      ],
      "text/plain": [
       "            0               1         2\n",
       "0          dS              dN  0.334624\n",
       "1          dS           dN/dS  0.081485\n",
       "2          dS     dS adjusted  1.000000\n",
       "3          dS  dN/dS adjusted  0.145174\n",
       "4          dS         fitness  0.072793\n",
       "..        ...             ...       ...\n",
       "105  fdNdSadj         fitness  0.223637\n",
       "106  fdNdSadj             fdS  0.154180\n",
       "107  fdNdSadj             fdN  0.985984\n",
       "108  fdNdSadj           fdNdS  0.990333\n",
       "109  fdNdSadj          fdSadj  0.213110\n",
       "\n",
       "[110 rows x 3 columns]"
      ]
     },
     "execution_count": 2,
     "metadata": {},
     "output_type": "execute_result"
    }
   ],
   "source": [
    "import pandas as pd\n",
    "result = pd.read_csv('result_df.csv')\n",
    "cor1 = result.corr()\n",
    "cor2 = result.corr(method='spearman')\n",
    "\n",
    "\n",
    "def basic_partial_cor(cor,x,y,z):\n",
    "    from math import sqrt\n",
    "    rdk = ((cor[x][y]-cor[x][z]*cor[y][z])/ \n",
    "       (sqrt(1-cor[x][z]**2)*sqrt(1-cor[y][z]**2)))\n",
    "    return rdk\n",
    "\n",
    "def partial_cor(cor,control):\n",
    "    '''newresult = result.drop(columns=[control], axis=1)\n",
    "    newcor1 = newresult.corr()\n",
    "    newcor2 = newresult.corr(method = 'spearman')'''\n",
    "    results = []\n",
    "    for i in cor:\n",
    "        for j in cor:\n",
    "            result_cor = basic_partial_cor(cor,i,j,control)\n",
    "            if i != control and j != control and i != j:\n",
    "                results.append([i,j,result_cor])\n",
    "    #return results\n",
    "\n",
    "    table = pd.DataFrame(results)\n",
    "    return table\n",
    "\n",
    "partial_cor(cor1, 'CAI')\n",
    "\n",
    "    \n"
   ]
  },
  {
   "attachments": {},
   "cell_type": "markdown",
   "metadata": {},
   "source": [
    "# 2. Results from Wall et al.\n",
    "\n",
    "Download the HTML page for the Wall et al paper from the PNAS website (https://www.pnas.org/content/102/15/5483/) using your browser. Then use BeautifulSoup (not pandas) to parse the HTML and scrape Table 1, finally print the value of the BeautifulSoup variable containing the table using the `IPYthon.display.Markdown` function to display the table. \n",
    "\n",
    "(Unfortunately, we cannot automatically download the HMTL for the page anymore because the PNAS site uses Cloudfare to prevent users from scraping so we cannot use python's request package to download the page)"
   ]
  },
  {
   "cell_type": "code",
   "execution_count": 12,
   "metadata": {
    "collapsed": true
   },
   "outputs": [],
   "source": [
    "from bs4 import BeautifulSoup\n",
    "import pandas as pd\n",
    "\n",
    "with open('PNAS.html') as f:\n",
    "    data = f.read()\n",
    "\n",
    "soup = BeautifulSoup(data, 'html.parser')"
   ]
  },
  {
   "cell_type": "code",
   "execution_count": 25,
   "metadata": {},
   "outputs": [
    {
     "data": {
      "text/markdown": [
       "<figure class=\"table\" id=\"tbl1\"><figcaption>Correlation and partial correlation coefficients estimating the association between protein dispensability (d) and evolutionary rate (k), and between expression level (x) and k</figcaption><div class=\"table-wrap\"><table><thead><tr data-xml-align=\"center\" data-xml-valign=\"top\"><th data-xml-align=\"left\">Evolution rate</th><th>Dispensability</th><th><i>r</i><sub>dk</sub></th><th>Expression</th><th><i>r</i><sub>xk</sub></th><th><i>r</i><sub>dk|x</sub></th><th><i>x</i>k|d</th></tr></thead><tbody><tr data-xml-align=\"center\" data-xml-valign=\"top\"><td data-xml-align=\"left\">dN/dS′</td><td data-xml-align=\"left\">Warringer <i>et al.</i></td><td>0.239 np</td><td data-xml-align=\"left\">mRNA abundance</td><td>-0.368 np</td><td>0.183 np</td><td>-0.328 np</td></tr><tr data-xml-align=\"center\" data-xml-valign=\"top\"><td> </td><td> </td><td> </td><td data-xml-align=\"left\">CAI</td><td>-0.528 np</td><td>0.190 np</td><td>-0.513 np</td></tr><tr data-xml-align=\"center\" data-xml-valign=\"top\"><td data-xml-align=\"left\">dN</td><td data-xml-align=\"left\">Warringer <i>et al.</i></td><td>0.237 np</td><td data-xml-align=\"left\">mRNA abundance</td><td>-0.363 np</td><td>0.181 np</td><td>-0.324 np</td></tr><tr data-xml-align=\"center\" data-xml-valign=\"top\"><td> </td><td> </td><td> </td><td data-xml-align=\"left\">CAI</td><td>-0.493 np</td><td>0.189 np</td><td>-0.478 np</td></tr><tr data-xml-align=\"center\" data-xml-valign=\"top\"><td data-xml-align=\"left\">dN/dS′</td><td data-xml-align=\"left\">SGTC</td><td>0.230 np</td><td data-xml-align=\"left\">mRNA abundance</td><td>-0.368 np</td><td>0.166 np</td><td>-0.330 np</td></tr><tr data-xml-align=\"center\" data-xml-valign=\"top\"><td> </td><td> </td><td> </td><td data-xml-align=\"left\">CAI</td><td>-0.528 np</td><td>0.187 np</td><td>-0.516 np</td></tr><tr data-xml-align=\"center\" data-xml-valign=\"top\"><td data-xml-align=\"left\">dN</td><td data-xml-align=\"left\">SGTC</td><td>0.227 np</td><td data-xml-align=\"left\">mRNA abundance</td><td>-0.363 np</td><td>0.163 np</td><td>-0.325 np</td></tr><tr data-xml-align=\"center\" data-xml-valign=\"top\"><td> </td><td> </td><td> </td><td data-xml-align=\"left\">CAI</td><td>-0.493 np</td><td>0.185 np</td><td>-0.479 np</td></tr><tr data-xml-align=\"center\" data-xml-valign=\"top\"><td data-xml-align=\"left\">dN/dS′</td><td data-xml-align=\"left\">Warringer <i>et al.</i></td><td>0.274</td><td data-xml-align=\"left\">mRNA abundance</td><td>-0.279</td><td>0.259</td><td>-0.256</td></tr><tr data-xml-align=\"center\" data-xml-valign=\"top\"><td> </td><td> </td><td> </td><td data-xml-align=\"left\">CAI</td><td>-0.522</td><td>0.241</td><td>-0.505</td></tr><tr data-xml-align=\"center\" data-xml-valign=\"top\"><td data-xml-align=\"left\">dN</td><td data-xml-align=\"left\">Warringer <i>et al.</i></td><td>0.274</td><td data-xml-align=\"left\">mRNA abundance</td><td>-0.282</td><td>0.259</td><td>-0.259</td></tr><tr data-xml-align=\"center\" data-xml-valign=\"top\"><td> </td><td> </td><td> </td><td data-xml-align=\"left\">CAI</td><td>-0.509</td><td>0.241</td><td>-0.491</td></tr><tr data-xml-align=\"center\" data-xml-valign=\"top\"><td data-xml-align=\"left\">dN/dS′</td><td data-xml-align=\"left\">SGTC</td><td>0.264</td><td data-xml-align=\"left\">mRNA abundance</td><td>-0.279</td><td>0.252</td><td>-0.258</td></tr><tr data-xml-align=\"center\" data-xml-valign=\"top\"><td> </td><td> </td><td> </td><td data-xml-align=\"left\">CAI</td><td>-0.522</td><td>0.232</td><td>-0.505</td></tr><tr data-xml-align=\"center\" data-xml-valign=\"top\"><td data-xml-align=\"left\">dN</td><td data-xml-align=\"left\">SGTC</td><td>0.264</td><td data-xml-align=\"left\">mRNA abundance</td><td>-0.282</td><td>0.251</td><td>-0.262</td></tr><tr data-xml-align=\"center\" data-xml-valign=\"top\"><td> </td><td> </td><td> </td><td data-xml-align=\"left\">CAI</td><td>-0.509</td><td>0.232</td><td>-0.491</td></tr></tbody></table></div><div class=\"notes\"><div role=\"doc-footnote\"><i>r</i><sub>AB</sub> denotes the correlation coefficient between any two variables A and B, while <i>r</i><sub>AB|C</sub> denotes the partial correlation coefficient between any two variables, while controlling for a third, C. For description of dispensability data sets (SGTC and Warringer <i>et al.</i>), expression data sets (mRNA abundance and CAI), and evolutionary rate estimates (dN, dN/dS, and dN/dS′) see <i>Materials and Methods</i>. See <i>Results</i> for discussion of statistical significance. np denotes nonparametric correlation, all other correlation coefficients are parametric.</div></div></figure>"
      ],
      "text/plain": [
       "<IPython.core.display.Markdown object>"
      ]
     },
     "metadata": {},
     "output_type": "display_data"
    }
   ],
   "source": [
    "from IPython.display import display, Markdown\n",
    "\n",
    "table1 = soup.find('figure', {'id': 'tbl1'})\n",
    "\n",
    "table1_final = display (Markdown(str(table1)) )\n",
    "\n"
   ]
  }
 ],
 "metadata": {
  "kernelspec": {
   "display_name": "base",
   "language": "python",
   "name": "python3"
  },
  "language_info": {
   "codemirror_mode": {
    "name": "ipython",
    "version": 3
   },
   "file_extension": ".py",
   "mimetype": "text/x-python",
   "name": "python",
   "nbconvert_exporter": "python",
   "pygments_lexer": "ipython3",
   "version": "3.9.12"
  },
  "vscode": {
   "interpreter": {
    "hash": "d65c0cc447810067c5360fe9f92345cbb6ea5cebea71d6b4fb533385ef0f3420"
   }
  }
 },
 "nbformat": 4,
 "nbformat_minor": 2
}
