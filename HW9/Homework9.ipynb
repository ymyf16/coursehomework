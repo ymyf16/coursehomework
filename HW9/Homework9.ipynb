{
 "cells": [
  {
   "cell_type": "markdown",
   "metadata": {},
   "source": [
    "# Homework 9:"
   ]
  },
  {
   "cell_type": "markdown",
   "metadata": {},
   "source": [
    "Repeat the procedure we did in class to map the cities of the US using a map and the results of a PCoA, but using a different country of your choosing.\n",
    "\n",
    "Tips:\n",
    "\n",
    "These are the packages that you will need:\n",
    "\n",
    "```\n",
    "import geopy.distance\n",
    "import pandas as pd\n",
    "import plotly.express as px\n",
    "import skbio\n",
    "```\n",
    "\n",
    "You will also need the `world_cities.csv` file to get the city names and coordinates for your country.\n",
    "\n",
    "1. Choose your country.\n",
    "2. Get only the cities of that country from the `world_cities.csv` file.\n",
    "3. Sort the cities by population and select the 20 to 50 most populated cities.\n",
    "4. Create a data frame with only these cities.\n",
    "5. Calculate the distance between the cities using their latitude/longitude data from your data frame (geopy).\n",
    "6. Create a data frame with a table of all the distances between each paur of cities. This needs to be in a distance matrix format, just like we imported from the `cities.csv` file for the US.\n",
    "7. Perform the PCoA using skbio.\n",
    "8. Plot the results of the PCoA using plotly express.\n",
    "9. Plot the map of the country with the cities using the latitude/longitude from your table using plotly express.\n",
    "10. That's it!"
   ]
  },
  {
   "cell_type": "code",
   "execution_count": 1,
   "metadata": {},
   "outputs": [],
   "source": [
    "import geopy.distance\n",
    "import pandas as pd\n",
    "import plotly.express as px\n",
    "import skbio"
   ]
  },
  {
   "cell_type": "code",
   "execution_count": 2,
   "metadata": {},
   "outputs": [
    {
     "data": {
      "text/html": [
       "<div>\n",
       "<style scoped>\n",
       "    .dataframe tbody tr th:only-of-type {\n",
       "        vertical-align: middle;\n",
       "    }\n",
       "\n",
       "    .dataframe tbody tr th {\n",
       "        vertical-align: top;\n",
       "    }\n",
       "\n",
       "    .dataframe thead th {\n",
       "        text-align: right;\n",
       "    }\n",
       "</style>\n",
       "<table border=\"1\" class=\"dataframe\">\n",
       "  <thead>\n",
       "    <tr style=\"text-align: right;\">\n",
       "      <th></th>\n",
       "      <th>name</th>\n",
       "      <th>country.etc</th>\n",
       "      <th>pop</th>\n",
       "      <th>lat</th>\n",
       "      <th>long</th>\n",
       "      <th>capital</th>\n",
       "    </tr>\n",
       "  </thead>\n",
       "  <tbody>\n",
       "    <tr>\n",
       "      <th>34723</th>\n",
       "      <td>Shanghai</td>\n",
       "      <td>China</td>\n",
       "      <td>15017783</td>\n",
       "      <td>31.23</td>\n",
       "      <td>121.47</td>\n",
       "      <td>2</td>\n",
       "    </tr>\n",
       "    <tr>\n",
       "      <th>3826</th>\n",
       "      <td>Beijing</td>\n",
       "      <td>China</td>\n",
       "      <td>7602069</td>\n",
       "      <td>39.93</td>\n",
       "      <td>116.40</td>\n",
       "      <td>1</td>\n",
       "    </tr>\n",
       "    <tr>\n",
       "      <th>41907</th>\n",
       "      <td>Wuhan</td>\n",
       "      <td>China</td>\n",
       "      <td>4236023</td>\n",
       "      <td>30.58</td>\n",
       "      <td>114.27</td>\n",
       "      <td>3</td>\n",
       "    </tr>\n",
       "    <tr>\n",
       "      <th>7595</th>\n",
       "      <td>Chongqing</td>\n",
       "      <td>China</td>\n",
       "      <td>4133663</td>\n",
       "      <td>29.57</td>\n",
       "      <td>106.58</td>\n",
       "      <td>2</td>\n",
       "    </tr>\n",
       "    <tr>\n",
       "      <th>41967</th>\n",
       "      <td>Xian</td>\n",
       "      <td>China</td>\n",
       "      <td>4091916</td>\n",
       "      <td>34.27</td>\n",
       "      <td>108.90</td>\n",
       "      <td>0</td>\n",
       "    </tr>\n",
       "    <tr>\n",
       "      <th>7271</th>\n",
       "      <td>Chengdu</td>\n",
       "      <td>China</td>\n",
       "      <td>3961709</td>\n",
       "      <td>30.67</td>\n",
       "      <td>104.07</td>\n",
       "      <td>3</td>\n",
       "    </tr>\n",
       "    <tr>\n",
       "      <th>38079</th>\n",
       "      <td>Tianjin</td>\n",
       "      <td>China</td>\n",
       "      <td>3761272</td>\n",
       "      <td>39.13</td>\n",
       "      <td>117.20</td>\n",
       "      <td>2</td>\n",
       "    </tr>\n",
       "    <tr>\n",
       "      <th>34806</th>\n",
       "      <td>Shenyang</td>\n",
       "      <td>China</td>\n",
       "      <td>3538726</td>\n",
       "      <td>41.80</td>\n",
       "      <td>123.45</td>\n",
       "      <td>3</td>\n",
       "    </tr>\n",
       "    <tr>\n",
       "      <th>13880</th>\n",
       "      <td>Harbin</td>\n",
       "      <td>China</td>\n",
       "      <td>3279454</td>\n",
       "      <td>45.75</td>\n",
       "      <td>126.65</td>\n",
       "      <td>3</td>\n",
       "    </tr>\n",
       "    <tr>\n",
       "      <th>25366</th>\n",
       "      <td>Nanjing</td>\n",
       "      <td>China</td>\n",
       "      <td>3160179</td>\n",
       "      <td>32.05</td>\n",
       "      <td>118.78</td>\n",
       "      <td>3</td>\n",
       "    </tr>\n",
       "    <tr>\n",
       "      <th>13236</th>\n",
       "      <td>Guangzhou</td>\n",
       "      <td>China</td>\n",
       "      <td>3158125</td>\n",
       "      <td>23.12</td>\n",
       "      <td>113.25</td>\n",
       "      <td>3</td>\n",
       "    </tr>\n",
       "    <tr>\n",
       "      <th>37064</th>\n",
       "      <td>Taiyuan</td>\n",
       "      <td>China</td>\n",
       "      <td>2752516</td>\n",
       "      <td>37.87</td>\n",
       "      <td>112.55</td>\n",
       "      <td>3</td>\n",
       "    </tr>\n",
       "    <tr>\n",
       "      <th>7108</th>\n",
       "      <td>Changchun</td>\n",
       "      <td>China</td>\n",
       "      <td>2602574</td>\n",
       "      <td>43.87</td>\n",
       "      <td>125.35</td>\n",
       "      <td>3</td>\n",
       "    </tr>\n",
       "    <tr>\n",
       "      <th>7118</th>\n",
       "      <td>Changsha</td>\n",
       "      <td>China</td>\n",
       "      <td>2131620</td>\n",
       "      <td>28.20</td>\n",
       "      <td>112.97</td>\n",
       "      <td>3</td>\n",
       "    </tr>\n",
       "    <tr>\n",
       "      <th>16303</th>\n",
       "      <td>Jinan</td>\n",
       "      <td>China</td>\n",
       "      <td>2109987</td>\n",
       "      <td>36.67</td>\n",
       "      <td>117.00</td>\n",
       "      <td>3</td>\n",
       "    </tr>\n",
       "    <tr>\n",
       "      <th>34842</th>\n",
       "      <td>Shijiazhuang</td>\n",
       "      <td>China</td>\n",
       "      <td>2080120</td>\n",
       "      <td>38.05</td>\n",
       "      <td>114.48</td>\n",
       "      <td>3</td>\n",
       "    </tr>\n",
       "    <tr>\n",
       "      <th>8729</th>\n",
       "      <td>Dalian</td>\n",
       "      <td>China</td>\n",
       "      <td>2076179</td>\n",
       "      <td>38.92</td>\n",
       "      <td>121.65</td>\n",
       "      <td>0</td>\n",
       "    </tr>\n",
       "    <tr>\n",
       "      <th>42867</th>\n",
       "      <td>Zhengzhou</td>\n",
       "      <td>China</td>\n",
       "      <td>2023495</td>\n",
       "      <td>34.75</td>\n",
       "      <td>113.67</td>\n",
       "      <td>3</td>\n",
       "    </tr>\n",
       "    <tr>\n",
       "      <th>16354</th>\n",
       "      <td>Jiulong</td>\n",
       "      <td>China</td>\n",
       "      <td>1983415</td>\n",
       "      <td>22.32</td>\n",
       "      <td>114.17</td>\n",
       "      <td>0</td>\n",
       "    </tr>\n",
       "    <tr>\n",
       "      <th>16286</th>\n",
       "      <td>Jilin</td>\n",
       "      <td>China</td>\n",
       "      <td>1955804</td>\n",
       "      <td>43.85</td>\n",
       "      <td>126.55</td>\n",
       "      <td>0</td>\n",
       "    </tr>\n",
       "  </tbody>\n",
       "</table>\n",
       "</div>"
      ],
      "text/plain": [
       "               name country.etc       pop    lat    long  capital\n",
       "34723      Shanghai       China  15017783  31.23  121.47        2\n",
       "3826        Beijing       China   7602069  39.93  116.40        1\n",
       "41907         Wuhan       China   4236023  30.58  114.27        3\n",
       "7595      Chongqing       China   4133663  29.57  106.58        2\n",
       "41967          Xian       China   4091916  34.27  108.90        0\n",
       "7271        Chengdu       China   3961709  30.67  104.07        3\n",
       "38079       Tianjin       China   3761272  39.13  117.20        2\n",
       "34806      Shenyang       China   3538726  41.80  123.45        3\n",
       "13880        Harbin       China   3279454  45.75  126.65        3\n",
       "25366       Nanjing       China   3160179  32.05  118.78        3\n",
       "13236     Guangzhou       China   3158125  23.12  113.25        3\n",
       "37064       Taiyuan       China   2752516  37.87  112.55        3\n",
       "7108      Changchun       China   2602574  43.87  125.35        3\n",
       "7118       Changsha       China   2131620  28.20  112.97        3\n",
       "16303         Jinan       China   2109987  36.67  117.00        3\n",
       "34842  Shijiazhuang       China   2080120  38.05  114.48        3\n",
       "8729         Dalian       China   2076179  38.92  121.65        0\n",
       "42867     Zhengzhou       China   2023495  34.75  113.67        3\n",
       "16354       Jiulong       China   1983415  22.32  114.17        0\n",
       "16286         Jilin       China   1955804  43.85  126.55        0"
      ]
     },
     "execution_count": 2,
     "metadata": {},
     "output_type": "execute_result"
    }
   ],
   "source": [
    "df = pd.read_csv(\"world_cities.csv\",sep=\"\\t\")\n",
    "\n",
    "\n",
    "cities = df[df['country.etc'] == 'China']\n",
    "cities = cities.sort_values(by=\"pop\", ascending=False).head(20)\n",
    "cities"
   ]
  },
  {
   "cell_type": "code",
   "execution_count": 3,
   "metadata": {},
   "outputs": [
    {
     "data": {
      "text/html": [
       "<div>\n",
       "<style scoped>\n",
       "    .dataframe tbody tr th:only-of-type {\n",
       "        vertical-align: middle;\n",
       "    }\n",
       "\n",
       "    .dataframe tbody tr th {\n",
       "        vertical-align: top;\n",
       "    }\n",
       "\n",
       "    .dataframe thead th {\n",
       "        text-align: right;\n",
       "    }\n",
       "</style>\n",
       "<table border=\"1\" class=\"dataframe\">\n",
       "  <thead>\n",
       "    <tr style=\"text-align: right;\">\n",
       "      <th></th>\n",
       "      <th>Shanghai</th>\n",
       "      <th>Beijing</th>\n",
       "      <th>Wuhan</th>\n",
       "      <th>Chongqing</th>\n",
       "      <th>Xian</th>\n",
       "      <th>Chengdu</th>\n",
       "      <th>Tianjin</th>\n",
       "      <th>Shenyang</th>\n",
       "      <th>Harbin</th>\n",
       "      <th>Nanjing</th>\n",
       "      <th>Guangzhou</th>\n",
       "      <th>Taiyuan</th>\n",
       "      <th>Changchun</th>\n",
       "      <th>Changsha</th>\n",
       "      <th>Jinan</th>\n",
       "      <th>Shijiazhuang</th>\n",
       "      <th>Dalian</th>\n",
       "      <th>Zhengzhou</th>\n",
       "      <th>Jiulong</th>\n",
       "      <th>Jilin</th>\n",
       "    </tr>\n",
       "  </thead>\n",
       "  <tbody>\n",
       "    <tr>\n",
       "      <th>Shanghai</th>\n",
       "      <td>0.000000</td>\n",
       "      <td>1068.583042</td>\n",
       "      <td>691.947015</td>\n",
       "      <td>1441.540681</td>\n",
       "      <td>1224.336950</td>\n",
       "      <td>1662.085858</td>\n",
       "      <td>958.562154</td>\n",
       "      <td>1186.180486</td>\n",
       "      <td>1673.014904</td>\n",
       "      <td>270.878699</td>\n",
       "      <td>1211.994931</td>\n",
       "      <td>1100.282539</td>\n",
       "      <td>1443.726963</td>\n",
       "      <td>888.055267</td>\n",
       "      <td>731.105231</td>\n",
       "      <td>990.854199</td>\n",
       "      <td>853.305401</td>\n",
       "      <td>826.585187</td>\n",
       "      <td>1224.620285</td>\n",
       "      <td>1470.087387</td>\n",
       "    </tr>\n",
       "    <tr>\n",
       "      <th>Beijing</th>\n",
       "      <td>1068.583042</td>\n",
       "      <td>0.000000</td>\n",
       "      <td>1055.201317</td>\n",
       "      <td>1457.178466</td>\n",
       "      <td>915.345483</td>\n",
       "      <td>1518.110091</td>\n",
       "      <td>112.337263</td>\n",
       "      <td>629.363227</td>\n",
       "      <td>1056.958528</td>\n",
       "      <td>900.208478</td>\n",
       "      <td>1887.421947</td>\n",
       "      <td>404.708736</td>\n",
       "      <td>861.297260</td>\n",
       "      <td>1338.809350</td>\n",
       "      <td>365.650598</td>\n",
       "      <td>266.874476</td>\n",
       "      <td>465.676214</td>\n",
       "      <td>623.632525</td>\n",
       "      <td>1963.881356</td>\n",
       "      <td>947.314537</td>\n",
       "    </tr>\n",
       "    <tr>\n",
       "      <th>Wuhan</th>\n",
       "      <td>691.947015</td>\n",
       "      <td>1055.201317</td>\n",
       "      <td>0.000000</td>\n",
       "      <td>749.669589</td>\n",
       "      <td>649.842753</td>\n",
       "      <td>977.649473</td>\n",
       "      <td>985.475737</td>\n",
       "      <td>1491.861228</td>\n",
       "      <td>1997.763578</td>\n",
       "      <td>459.148691</td>\n",
       "      <td>832.761405</td>\n",
       "      <td>823.991813</td>\n",
       "      <td>1769.032622</td>\n",
       "      <td>292.425630</td>\n",
       "      <td>721.314541</td>\n",
       "      <td>828.861843</td>\n",
       "      <td>1144.759697</td>\n",
       "      <td>465.856710</td>\n",
       "      <td>915.229979</td>\n",
       "      <td>1827.784516</td>\n",
       "    </tr>\n",
       "    <tr>\n",
       "      <th>Chongqing</th>\n",
       "      <td>1441.540681</td>\n",
       "      <td>1457.178466</td>\n",
       "      <td>749.669589</td>\n",
       "      <td>0.000000</td>\n",
       "      <td>565.413922</td>\n",
       "      <td>270.875438</td>\n",
       "      <td>1439.834391</td>\n",
       "      <td>2035.917987</td>\n",
       "      <td>2508.121130</td>\n",
       "      <td>1198.646873</td>\n",
       "      <td>976.264380</td>\n",
       "      <td>1073.493442</td>\n",
       "      <td>2298.254615</td>\n",
       "      <td>641.449649</td>\n",
       "      <td>1249.882360</td>\n",
       "      <td>1190.463718</td>\n",
       "      <td>1728.908517</td>\n",
       "      <td>881.134926</td>\n",
       "      <td>1105.281138</td>\n",
       "      <td>2374.697178</td>\n",
       "    </tr>\n",
       "    <tr>\n",
       "      <th>Xian</th>\n",
       "      <td>1224.336950</td>\n",
       "      <td>915.345483</td>\n",
       "      <td>649.842753</td>\n",
       "      <td>565.413922</td>\n",
       "      <td>0.000000</td>\n",
       "      <td>604.452087</td>\n",
       "      <td>916.378413</td>\n",
       "      <td>1523.220020</td>\n",
       "      <td>1972.303449</td>\n",
       "      <td>953.510553</td>\n",
       "      <td>1306.432450</td>\n",
       "      <td>517.276470</td>\n",
       "      <td>1772.788794</td>\n",
       "      <td>776.511298</td>\n",
       "      <td>781.596091</td>\n",
       "      <td>654.002306</td>\n",
       "      <td>1250.633212</td>\n",
       "      <td>441.205546</td>\n",
       "      <td>1421.038925</td>\n",
       "      <td>1855.071522</td>\n",
       "    </tr>\n",
       "    <tr>\n",
       "      <th>Chengdu</th>\n",
       "      <td>1662.085858</td>\n",
       "      <td>1518.110091</td>\n",
       "      <td>977.649473</td>\n",
       "      <td>270.875438</td>\n",
       "      <td>604.452087</td>\n",
       "      <td>0.000000</td>\n",
       "      <td>1520.696383</td>\n",
       "      <td>2127.270606</td>\n",
       "      <td>2574.563030</td>\n",
       "      <td>1406.790476</td>\n",
       "      <td>1236.563340</td>\n",
       "      <td>1116.007743</td>\n",
       "      <td>2377.011722</td>\n",
       "      <td>905.586891</td>\n",
       "      <td>1369.622203</td>\n",
       "      <td>1258.347645</td>\n",
       "      <td>1846.180842</td>\n",
       "      <td>1006.748060</td>\n",
       "      <td>1366.062058</td>\n",
       "      <td>2459.520680</td>\n",
       "    </tr>\n",
       "    <tr>\n",
       "      <th>Tianjin</th>\n",
       "      <td>958.562154</td>\n",
       "      <td>112.337263</td>\n",
       "      <td>985.475737</td>\n",
       "      <td>1439.834391</td>\n",
       "      <td>916.378413</td>\n",
       "      <td>1520.696383</td>\n",
       "      <td>0.000000</td>\n",
       "      <td>607.126758</td>\n",
       "      <td>1068.789107</td>\n",
       "      <td>798.441859</td>\n",
       "      <td>1814.110028</td>\n",
       "      <td>429.006160</td>\n",
       "      <td>859.641581</td>\n",
       "      <td>1273.790895</td>\n",
       "      <td>273.612559</td>\n",
       "      <td>265.560969</td>\n",
       "      <td>386.017395</td>\n",
       "      <td>578.804040</td>\n",
       "      <td>1885.827752</td>\n",
       "      <td>939.531152</td>\n",
       "    </tr>\n",
       "    <tr>\n",
       "      <th>Shenyang</th>\n",
       "      <td>1186.180486</td>\n",
       "      <td>629.363227</td>\n",
       "      <td>1491.861228</td>\n",
       "      <td>2035.917987</td>\n",
       "      <td>1523.220020</td>\n",
       "      <td>2127.270606</td>\n",
       "      <td>607.126758</td>\n",
       "      <td>0.000000</td>\n",
       "      <td>508.799724</td>\n",
       "      <td>1158.770610</td>\n",
       "      <td>2278.664184</td>\n",
       "      <td>1028.986881</td>\n",
       "      <td>277.488887</td>\n",
       "      <td>1783.338680</td>\n",
       "      <td>796.076463</td>\n",
       "      <td>871.913976</td>\n",
       "      <td>354.448177</td>\n",
       "      <td>1158.202736</td>\n",
       "      <td>2327.588468</td>\n",
       "      <td>340.718909</td>\n",
       "    </tr>\n",
       "    <tr>\n",
       "      <th>Harbin</th>\n",
       "      <td>1673.014904</td>\n",
       "      <td>1056.958528</td>\n",
       "      <td>1997.763578</td>\n",
       "      <td>2508.121130</td>\n",
       "      <td>1972.303449</td>\n",
       "      <td>2574.563030</td>\n",
       "      <td>1068.789107</td>\n",
       "      <td>508.799724</td>\n",
       "      <td>0.000000</td>\n",
       "      <td>1665.038785</td>\n",
       "      <td>2787.311342</td>\n",
       "      <td>1458.890711</td>\n",
       "      <td>232.851396</td>\n",
       "      <td>2289.785490</td>\n",
       "      <td>1290.999705</td>\n",
       "      <td>1320.728739</td>\n",
       "      <td>862.926233</td>\n",
       "      <td>1642.406553</td>\n",
       "      <td>2835.032638</td>\n",
       "      <td>211.291091</td>\n",
       "    </tr>\n",
       "    <tr>\n",
       "      <th>Nanjing</th>\n",
       "      <td>270.878699</td>\n",
       "      <td>900.208478</td>\n",
       "      <td>459.148691</td>\n",
       "      <td>1198.646873</td>\n",
       "      <td>953.510553</td>\n",
       "      <td>1406.790476</td>\n",
       "      <td>798.441859</td>\n",
       "      <td>1158.770610</td>\n",
       "      <td>1665.038785</td>\n",
       "      <td>0.000000</td>\n",
       "      <td>1129.702615</td>\n",
       "      <td>860.152784</td>\n",
       "      <td>1432.187657</td>\n",
       "      <td>703.784565</td>\n",
       "      <td>537.983649</td>\n",
       "      <td>772.410614</td>\n",
       "      <td>805.362087</td>\n",
       "      <td>561.712533</td>\n",
       "      <td>1170.550924</td>\n",
       "      <td>1475.433942</td>\n",
       "    </tr>\n",
       "    <tr>\n",
       "      <th>Guangzhou</th>\n",
       "      <td>1211.994931</td>\n",
       "      <td>1887.421947</td>\n",
       "      <td>832.761405</td>\n",
       "      <td>976.264380</td>\n",
       "      <td>1306.432450</td>\n",
       "      <td>1236.563340</td>\n",
       "      <td>1814.110028</td>\n",
       "      <td>2278.664184</td>\n",
       "      <td>2787.311342</td>\n",
       "      <td>1129.702615</td>\n",
       "      <td>0.000000</td>\n",
       "      <td>1636.606384</td>\n",
       "      <td>2554.955312</td>\n",
       "      <td>563.479970</td>\n",
       "      <td>1544.716894</td>\n",
       "      <td>1659.371131</td>\n",
       "      <td>1924.385296</td>\n",
       "      <td>1289.677366</td>\n",
       "      <td>129.542411</td>\n",
       "      <td>2602.660818</td>\n",
       "    </tr>\n",
       "    <tr>\n",
       "      <th>Taiyuan</th>\n",
       "      <td>1100.282539</td>\n",
       "      <td>404.708736</td>\n",
       "      <td>823.991813</td>\n",
       "      <td>1073.493442</td>\n",
       "      <td>517.276470</td>\n",
       "      <td>1116.007743</td>\n",
       "      <td>429.006160</td>\n",
       "      <td>1028.986881</td>\n",
       "      <td>1458.890711</td>\n",
       "      <td>860.152784</td>\n",
       "      <td>1636.606384</td>\n",
       "      <td>0.000000</td>\n",
       "      <td>1266.003007</td>\n",
       "      <td>1073.176247</td>\n",
       "      <td>416.507010</td>\n",
       "      <td>170.778158</td>\n",
       "      <td>803.116928</td>\n",
       "      <td>360.517096</td>\n",
       "      <td>1730.805126</td>\n",
       "      <td>1351.748746</td>\n",
       "    </tr>\n",
       "    <tr>\n",
       "      <th>Changchun</th>\n",
       "      <td>1443.726963</td>\n",
       "      <td>861.297260</td>\n",
       "      <td>1769.032622</td>\n",
       "      <td>2298.254615</td>\n",
       "      <td>1772.788794</td>\n",
       "      <td>2377.011722</td>\n",
       "      <td>859.641581</td>\n",
       "      <td>277.488887</td>\n",
       "      <td>232.851396</td>\n",
       "      <td>1432.187657</td>\n",
       "      <td>2554.955312</td>\n",
       "      <td>1266.003007</td>\n",
       "      <td>0.000000</td>\n",
       "      <td>2060.658719</td>\n",
       "      <td>1068.235208</td>\n",
       "      <td>1118.803270</td>\n",
       "      <td>630.687708</td>\n",
       "      <td>1425.517054</td>\n",
       "      <td>2602.223758</td>\n",
       "      <td>96.498202</td>\n",
       "    </tr>\n",
       "    <tr>\n",
       "      <th>Changsha</th>\n",
       "      <td>888.055267</td>\n",
       "      <td>1338.809350</td>\n",
       "      <td>292.425630</td>\n",
       "      <td>641.449649</td>\n",
       "      <td>776.511298</td>\n",
       "      <td>905.586891</td>\n",
       "      <td>1273.790895</td>\n",
       "      <td>1783.338680</td>\n",
       "      <td>2289.785490</td>\n",
       "      <td>703.784565</td>\n",
       "      <td>563.479970</td>\n",
       "      <td>1073.176247</td>\n",
       "      <td>2060.658719</td>\n",
       "      <td>0.000000</td>\n",
       "      <td>1012.569354</td>\n",
       "      <td>1101.441967</td>\n",
       "      <td>1434.790766</td>\n",
       "      <td>729.285308</td>\n",
       "      <td>662.476991</td>\n",
       "      <td>2118.302084</td>\n",
       "    </tr>\n",
       "    <tr>\n",
       "      <th>Jinan</th>\n",
       "      <td>731.105231</td>\n",
       "      <td>365.650598</td>\n",
       "      <td>721.314541</td>\n",
       "      <td>1249.882360</td>\n",
       "      <td>781.596091</td>\n",
       "      <td>1369.622203</td>\n",
       "      <td>273.612559</td>\n",
       "      <td>796.076463</td>\n",
       "      <td>1290.999705</td>\n",
       "      <td>537.983649</td>\n",
       "      <td>1544.716894</td>\n",
       "      <td>416.507010</td>\n",
       "      <td>1068.235208</td>\n",
       "      <td>1012.569354</td>\n",
       "      <td>0.000000</td>\n",
       "      <td>270.716408</td>\n",
       "      <td>479.590632</td>\n",
       "      <td>368.995811</td>\n",
       "      <td>1613.912924</td>\n",
       "      <td>1136.783161</td>\n",
       "    </tr>\n",
       "    <tr>\n",
       "      <th>Shijiazhuang</th>\n",
       "      <td>990.854199</td>\n",
       "      <td>266.874476</td>\n",
       "      <td>828.861843</td>\n",
       "      <td>1190.463718</td>\n",
       "      <td>654.002306</td>\n",
       "      <td>1258.347645</td>\n",
       "      <td>265.560969</td>\n",
       "      <td>871.913976</td>\n",
       "      <td>1320.728739</td>\n",
       "      <td>772.410614</td>\n",
       "      <td>1659.371131</td>\n",
       "      <td>170.778158</td>\n",
       "      <td>1118.803270</td>\n",
       "      <td>1101.441967</td>\n",
       "      <td>270.716408</td>\n",
       "      <td>0.000000</td>\n",
       "      <td>632.825490</td>\n",
       "      <td>373.323810</td>\n",
       "      <td>1744.065311</td>\n",
       "      <td>1201.321431</td>\n",
       "    </tr>\n",
       "    <tr>\n",
       "      <th>Dalian</th>\n",
       "      <td>853.305401</td>\n",
       "      <td>465.676214</td>\n",
       "      <td>1144.759697</td>\n",
       "      <td>1728.908517</td>\n",
       "      <td>1250.633212</td>\n",
       "      <td>1846.180842</td>\n",
       "      <td>386.017395</td>\n",
       "      <td>354.448177</td>\n",
       "      <td>862.926233</td>\n",
       "      <td>805.362087</td>\n",
       "      <td>1924.385296</td>\n",
       "      <td>803.116928</td>\n",
       "      <td>630.687708</td>\n",
       "      <td>1434.790766</td>\n",
       "      <td>479.590632</td>\n",
       "      <td>632.825490</td>\n",
       "      <td>0.000000</td>\n",
       "      <td>848.515473</td>\n",
       "      <td>1973.267409</td>\n",
       "      <td>683.653635</td>\n",
       "    </tr>\n",
       "    <tr>\n",
       "      <th>Zhengzhou</th>\n",
       "      <td>826.585187</td>\n",
       "      <td>623.632525</td>\n",
       "      <td>465.856710</td>\n",
       "      <td>881.134926</td>\n",
       "      <td>441.205546</td>\n",
       "      <td>1006.748060</td>\n",
       "      <td>578.804040</td>\n",
       "      <td>1158.202736</td>\n",
       "      <td>1642.406553</td>\n",
       "      <td>561.712533</td>\n",
       "      <td>1289.677366</td>\n",
       "      <td>360.517096</td>\n",
       "      <td>1425.517054</td>\n",
       "      <td>729.285308</td>\n",
       "      <td>368.995811</td>\n",
       "      <td>373.323810</td>\n",
       "      <td>848.515473</td>\n",
       "      <td>0.000000</td>\n",
       "      <td>1378.485904</td>\n",
       "      <td>1498.380863</td>\n",
       "    </tr>\n",
       "    <tr>\n",
       "      <th>Jiulong</th>\n",
       "      <td>1224.620285</td>\n",
       "      <td>1963.881356</td>\n",
       "      <td>915.229979</td>\n",
       "      <td>1105.281138</td>\n",
       "      <td>1421.038925</td>\n",
       "      <td>1366.062058</td>\n",
       "      <td>1885.827752</td>\n",
       "      <td>2327.588468</td>\n",
       "      <td>2835.032638</td>\n",
       "      <td>1170.550924</td>\n",
       "      <td>129.542411</td>\n",
       "      <td>1730.805126</td>\n",
       "      <td>2602.223758</td>\n",
       "      <td>662.476991</td>\n",
       "      <td>1613.912924</td>\n",
       "      <td>1744.065311</td>\n",
       "      <td>1973.267409</td>\n",
       "      <td>1378.485904</td>\n",
       "      <td>0.000000</td>\n",
       "      <td>2645.850253</td>\n",
       "    </tr>\n",
       "    <tr>\n",
       "      <th>Jilin</th>\n",
       "      <td>1470.087387</td>\n",
       "      <td>947.314537</td>\n",
       "      <td>1827.784516</td>\n",
       "      <td>2374.697178</td>\n",
       "      <td>1855.071522</td>\n",
       "      <td>2459.520680</td>\n",
       "      <td>939.531152</td>\n",
       "      <td>340.718909</td>\n",
       "      <td>211.291091</td>\n",
       "      <td>1475.433942</td>\n",
       "      <td>2602.660818</td>\n",
       "      <td>1351.748746</td>\n",
       "      <td>96.498202</td>\n",
       "      <td>2118.302084</td>\n",
       "      <td>1136.783161</td>\n",
       "      <td>1201.321431</td>\n",
       "      <td>683.653635</td>\n",
       "      <td>1498.380863</td>\n",
       "      <td>2645.850253</td>\n",
       "      <td>0.000000</td>\n",
       "    </tr>\n",
       "  </tbody>\n",
       "</table>\n",
       "</div>"
      ],
      "text/plain": [
       "                 Shanghai      Beijing        Wuhan    Chongqing         Xian  \\\n",
       "Shanghai         0.000000  1068.583042   691.947015  1441.540681  1224.336950   \n",
       "Beijing       1068.583042     0.000000  1055.201317  1457.178466   915.345483   \n",
       "Wuhan          691.947015  1055.201317     0.000000   749.669589   649.842753   \n",
       "Chongqing     1441.540681  1457.178466   749.669589     0.000000   565.413922   \n",
       "Xian          1224.336950   915.345483   649.842753   565.413922     0.000000   \n",
       "Chengdu       1662.085858  1518.110091   977.649473   270.875438   604.452087   \n",
       "Tianjin        958.562154   112.337263   985.475737  1439.834391   916.378413   \n",
       "Shenyang      1186.180486   629.363227  1491.861228  2035.917987  1523.220020   \n",
       "Harbin        1673.014904  1056.958528  1997.763578  2508.121130  1972.303449   \n",
       "Nanjing        270.878699   900.208478   459.148691  1198.646873   953.510553   \n",
       "Guangzhou     1211.994931  1887.421947   832.761405   976.264380  1306.432450   \n",
       "Taiyuan       1100.282539   404.708736   823.991813  1073.493442   517.276470   \n",
       "Changchun     1443.726963   861.297260  1769.032622  2298.254615  1772.788794   \n",
       "Changsha       888.055267  1338.809350   292.425630   641.449649   776.511298   \n",
       "Jinan          731.105231   365.650598   721.314541  1249.882360   781.596091   \n",
       "Shijiazhuang   990.854199   266.874476   828.861843  1190.463718   654.002306   \n",
       "Dalian         853.305401   465.676214  1144.759697  1728.908517  1250.633212   \n",
       "Zhengzhou      826.585187   623.632525   465.856710   881.134926   441.205546   \n",
       "Jiulong       1224.620285  1963.881356   915.229979  1105.281138  1421.038925   \n",
       "Jilin         1470.087387   947.314537  1827.784516  2374.697178  1855.071522   \n",
       "\n",
       "                  Chengdu      Tianjin     Shenyang       Harbin      Nanjing  \\\n",
       "Shanghai      1662.085858   958.562154  1186.180486  1673.014904   270.878699   \n",
       "Beijing       1518.110091   112.337263   629.363227  1056.958528   900.208478   \n",
       "Wuhan          977.649473   985.475737  1491.861228  1997.763578   459.148691   \n",
       "Chongqing      270.875438  1439.834391  2035.917987  2508.121130  1198.646873   \n",
       "Xian           604.452087   916.378413  1523.220020  1972.303449   953.510553   \n",
       "Chengdu          0.000000  1520.696383  2127.270606  2574.563030  1406.790476   \n",
       "Tianjin       1520.696383     0.000000   607.126758  1068.789107   798.441859   \n",
       "Shenyang      2127.270606   607.126758     0.000000   508.799724  1158.770610   \n",
       "Harbin        2574.563030  1068.789107   508.799724     0.000000  1665.038785   \n",
       "Nanjing       1406.790476   798.441859  1158.770610  1665.038785     0.000000   \n",
       "Guangzhou     1236.563340  1814.110028  2278.664184  2787.311342  1129.702615   \n",
       "Taiyuan       1116.007743   429.006160  1028.986881  1458.890711   860.152784   \n",
       "Changchun     2377.011722   859.641581   277.488887   232.851396  1432.187657   \n",
       "Changsha       905.586891  1273.790895  1783.338680  2289.785490   703.784565   \n",
       "Jinan         1369.622203   273.612559   796.076463  1290.999705   537.983649   \n",
       "Shijiazhuang  1258.347645   265.560969   871.913976  1320.728739   772.410614   \n",
       "Dalian        1846.180842   386.017395   354.448177   862.926233   805.362087   \n",
       "Zhengzhou     1006.748060   578.804040  1158.202736  1642.406553   561.712533   \n",
       "Jiulong       1366.062058  1885.827752  2327.588468  2835.032638  1170.550924   \n",
       "Jilin         2459.520680   939.531152   340.718909   211.291091  1475.433942   \n",
       "\n",
       "                Guangzhou      Taiyuan    Changchun     Changsha        Jinan  \\\n",
       "Shanghai      1211.994931  1100.282539  1443.726963   888.055267   731.105231   \n",
       "Beijing       1887.421947   404.708736   861.297260  1338.809350   365.650598   \n",
       "Wuhan          832.761405   823.991813  1769.032622   292.425630   721.314541   \n",
       "Chongqing      976.264380  1073.493442  2298.254615   641.449649  1249.882360   \n",
       "Xian          1306.432450   517.276470  1772.788794   776.511298   781.596091   \n",
       "Chengdu       1236.563340  1116.007743  2377.011722   905.586891  1369.622203   \n",
       "Tianjin       1814.110028   429.006160   859.641581  1273.790895   273.612559   \n",
       "Shenyang      2278.664184  1028.986881   277.488887  1783.338680   796.076463   \n",
       "Harbin        2787.311342  1458.890711   232.851396  2289.785490  1290.999705   \n",
       "Nanjing       1129.702615   860.152784  1432.187657   703.784565   537.983649   \n",
       "Guangzhou        0.000000  1636.606384  2554.955312   563.479970  1544.716894   \n",
       "Taiyuan       1636.606384     0.000000  1266.003007  1073.176247   416.507010   \n",
       "Changchun     2554.955312  1266.003007     0.000000  2060.658719  1068.235208   \n",
       "Changsha       563.479970  1073.176247  2060.658719     0.000000  1012.569354   \n",
       "Jinan         1544.716894   416.507010  1068.235208  1012.569354     0.000000   \n",
       "Shijiazhuang  1659.371131   170.778158  1118.803270  1101.441967   270.716408   \n",
       "Dalian        1924.385296   803.116928   630.687708  1434.790766   479.590632   \n",
       "Zhengzhou     1289.677366   360.517096  1425.517054   729.285308   368.995811   \n",
       "Jiulong        129.542411  1730.805126  2602.223758   662.476991  1613.912924   \n",
       "Jilin         2602.660818  1351.748746    96.498202  2118.302084  1136.783161   \n",
       "\n",
       "              Shijiazhuang       Dalian    Zhengzhou      Jiulong        Jilin  \n",
       "Shanghai        990.854199   853.305401   826.585187  1224.620285  1470.087387  \n",
       "Beijing         266.874476   465.676214   623.632525  1963.881356   947.314537  \n",
       "Wuhan           828.861843  1144.759697   465.856710   915.229979  1827.784516  \n",
       "Chongqing      1190.463718  1728.908517   881.134926  1105.281138  2374.697178  \n",
       "Xian            654.002306  1250.633212   441.205546  1421.038925  1855.071522  \n",
       "Chengdu        1258.347645  1846.180842  1006.748060  1366.062058  2459.520680  \n",
       "Tianjin         265.560969   386.017395   578.804040  1885.827752   939.531152  \n",
       "Shenyang        871.913976   354.448177  1158.202736  2327.588468   340.718909  \n",
       "Harbin         1320.728739   862.926233  1642.406553  2835.032638   211.291091  \n",
       "Nanjing         772.410614   805.362087   561.712533  1170.550924  1475.433942  \n",
       "Guangzhou      1659.371131  1924.385296  1289.677366   129.542411  2602.660818  \n",
       "Taiyuan         170.778158   803.116928   360.517096  1730.805126  1351.748746  \n",
       "Changchun      1118.803270   630.687708  1425.517054  2602.223758    96.498202  \n",
       "Changsha       1101.441967  1434.790766   729.285308   662.476991  2118.302084  \n",
       "Jinan           270.716408   479.590632   368.995811  1613.912924  1136.783161  \n",
       "Shijiazhuang      0.000000   632.825490   373.323810  1744.065311  1201.321431  \n",
       "Dalian          632.825490     0.000000   848.515473  1973.267409   683.653635  \n",
       "Zhengzhou       373.323810   848.515473     0.000000  1378.485904  1498.380863  \n",
       "Jiulong        1744.065311  1973.267409  1378.485904     0.000000  2645.850253  \n",
       "Jilin          1201.321431   683.653635  1498.380863  2645.850253     0.000000  "
      ]
     },
     "execution_count": 3,
     "metadata": {},
     "output_type": "execute_result"
    }
   ],
   "source": [
    "citynames = list(cities['name'])\n",
    "\n",
    "\n",
    "dictCity = {}\n",
    "for city1 in citynames:\n",
    "    if city1 not in dictCity:\n",
    "        dictCity[city1] = {}\n",
    "    for city2 in citynames:\n",
    "        if city1 == city2:\n",
    "            dist = 0\n",
    "        else:\n",
    "            coord1 = (float(cities[cities[\"name\"]==city1][\"lat\"]),float(cities[cities[\"name\"]==city1][\"long\"]))\n",
    "            coord2 = (float(cities[cities[\"name\"]==city2][\"lat\"]),float(cities[cities[\"name\"]==city2][\"long\"]))\n",
    "\n",
    "            dist = geopy.distance.distance(coord1, coord2).km\n",
    "        dictCity[city1][city2] = dist\n",
    "tableCity = pd.DataFrame(dictCity)\n",
    "#tableCity\n",
    "tableCity"
   ]
  },
  {
   "cell_type": "code",
   "execution_count": 8,
   "metadata": {},
   "outputs": [
    {
     "name": "stderr",
     "output_type": "stream",
     "text": [
      "/Users/yufeimeng/opt/anaconda3/lib/python3.9/site-packages/skbio/stats/ordination/_principal_coordinate_analysis.py:143: RuntimeWarning:\n",
      "\n",
      "The result contains negative eigenvalues. Please compare their magnitude with the magnitude of some of the largest positive eigenvalues. If the negative ones are smaller, it's probably safe to ignore them, but if they are large in magnitude, the results won't be useful. See the Notes section for more details. The smallest eigenvalue is -8219.06899961676 and the largest is 13667903.910487376.\n",
      "\n"
     ]
    },
    {
     "data": {
      "application/vnd.plotly.v1+json": {
       "config": {
        "plotlyServerURL": "https://plot.ly"
       },
       "data": [
        {
         "geo": "geo",
         "hovertemplate": "pop=%{marker.size}<br>lat=%{lat}<br>long=%{lon}<extra></extra>",
         "lat": [
          31.23,
          39.93,
          30.58,
          29.57,
          34.27,
          30.67,
          39.13,
          41.8,
          45.75,
          32.05,
          23.12,
          37.87,
          43.87,
          28.2,
          36.67,
          38.05,
          38.92,
          34.75,
          22.32,
          43.85
         ],
         "legendgroup": "",
         "lon": [
          121.47,
          116.4,
          114.27,
          106.58,
          108.9,
          104.07,
          117.2,
          123.45,
          126.65,
          118.78,
          113.25,
          112.55,
          125.35,
          112.97,
          117,
          114.48,
          121.65,
          113.67,
          114.17,
          126.55
         ],
         "marker": {
          "color": "#636efa",
          "size": [
           15017783,
           7602069,
           4236023,
           4133663,
           4091916,
           3961709,
           3761272,
           3538726,
           3279454,
           3160179,
           3158125,
           2752516,
           2602574,
           2131620,
           2109987,
           2080120,
           2076179,
           2023495,
           1983415,
           1955804
          ],
          "sizemode": "area",
          "sizeref": 37544.4575,
          "symbol": "circle"
         },
         "mode": "markers",
         "name": "",
         "showlegend": false,
         "type": "scattergeo"
        }
       ],
       "layout": {
        "geo": {
         "center": {},
         "domain": {
          "x": [
           0,
           1
          ],
          "y": [
           0,
           1
          ]
         },
         "scope": "asia"
        },
        "legend": {
         "itemsizing": "constant",
         "tracegroupgap": 0
        },
        "margin": {
         "t": 60
        },
        "template": {
         "data": {
          "bar": [
           {
            "error_x": {
             "color": "#2a3f5f"
            },
            "error_y": {
             "color": "#2a3f5f"
            },
            "marker": {
             "line": {
              "color": "#E5ECF6",
              "width": 0.5
             },
             "pattern": {
              "fillmode": "overlay",
              "size": 10,
              "solidity": 0.2
             }
            },
            "type": "bar"
           }
          ],
          "barpolar": [
           {
            "marker": {
             "line": {
              "color": "#E5ECF6",
              "width": 0.5
             },
             "pattern": {
              "fillmode": "overlay",
              "size": 10,
              "solidity": 0.2
             }
            },
            "type": "barpolar"
           }
          ],
          "carpet": [
           {
            "aaxis": {
             "endlinecolor": "#2a3f5f",
             "gridcolor": "white",
             "linecolor": "white",
             "minorgridcolor": "white",
             "startlinecolor": "#2a3f5f"
            },
            "baxis": {
             "endlinecolor": "#2a3f5f",
             "gridcolor": "white",
             "linecolor": "white",
             "minorgridcolor": "white",
             "startlinecolor": "#2a3f5f"
            },
            "type": "carpet"
           }
          ],
          "choropleth": [
           {
            "colorbar": {
             "outlinewidth": 0,
             "ticks": ""
            },
            "type": "choropleth"
           }
          ],
          "contour": [
           {
            "colorbar": {
             "outlinewidth": 0,
             "ticks": ""
            },
            "colorscale": [
             [
              0,
              "#0d0887"
             ],
             [
              0.1111111111111111,
              "#46039f"
             ],
             [
              0.2222222222222222,
              "#7201a8"
             ],
             [
              0.3333333333333333,
              "#9c179e"
             ],
             [
              0.4444444444444444,
              "#bd3786"
             ],
             [
              0.5555555555555556,
              "#d8576b"
             ],
             [
              0.6666666666666666,
              "#ed7953"
             ],
             [
              0.7777777777777778,
              "#fb9f3a"
             ],
             [
              0.8888888888888888,
              "#fdca26"
             ],
             [
              1,
              "#f0f921"
             ]
            ],
            "type": "contour"
           }
          ],
          "contourcarpet": [
           {
            "colorbar": {
             "outlinewidth": 0,
             "ticks": ""
            },
            "type": "contourcarpet"
           }
          ],
          "heatmap": [
           {
            "colorbar": {
             "outlinewidth": 0,
             "ticks": ""
            },
            "colorscale": [
             [
              0,
              "#0d0887"
             ],
             [
              0.1111111111111111,
              "#46039f"
             ],
             [
              0.2222222222222222,
              "#7201a8"
             ],
             [
              0.3333333333333333,
              "#9c179e"
             ],
             [
              0.4444444444444444,
              "#bd3786"
             ],
             [
              0.5555555555555556,
              "#d8576b"
             ],
             [
              0.6666666666666666,
              "#ed7953"
             ],
             [
              0.7777777777777778,
              "#fb9f3a"
             ],
             [
              0.8888888888888888,
              "#fdca26"
             ],
             [
              1,
              "#f0f921"
             ]
            ],
            "type": "heatmap"
           }
          ],
          "heatmapgl": [
           {
            "colorbar": {
             "outlinewidth": 0,
             "ticks": ""
            },
            "colorscale": [
             [
              0,
              "#0d0887"
             ],
             [
              0.1111111111111111,
              "#46039f"
             ],
             [
              0.2222222222222222,
              "#7201a8"
             ],
             [
              0.3333333333333333,
              "#9c179e"
             ],
             [
              0.4444444444444444,
              "#bd3786"
             ],
             [
              0.5555555555555556,
              "#d8576b"
             ],
             [
              0.6666666666666666,
              "#ed7953"
             ],
             [
              0.7777777777777778,
              "#fb9f3a"
             ],
             [
              0.8888888888888888,
              "#fdca26"
             ],
             [
              1,
              "#f0f921"
             ]
            ],
            "type": "heatmapgl"
           }
          ],
          "histogram": [
           {
            "marker": {
             "pattern": {
              "fillmode": "overlay",
              "size": 10,
              "solidity": 0.2
             }
            },
            "type": "histogram"
           }
          ],
          "histogram2d": [
           {
            "colorbar": {
             "outlinewidth": 0,
             "ticks": ""
            },
            "colorscale": [
             [
              0,
              "#0d0887"
             ],
             [
              0.1111111111111111,
              "#46039f"
             ],
             [
              0.2222222222222222,
              "#7201a8"
             ],
             [
              0.3333333333333333,
              "#9c179e"
             ],
             [
              0.4444444444444444,
              "#bd3786"
             ],
             [
              0.5555555555555556,
              "#d8576b"
             ],
             [
              0.6666666666666666,
              "#ed7953"
             ],
             [
              0.7777777777777778,
              "#fb9f3a"
             ],
             [
              0.8888888888888888,
              "#fdca26"
             ],
             [
              1,
              "#f0f921"
             ]
            ],
            "type": "histogram2d"
           }
          ],
          "histogram2dcontour": [
           {
            "colorbar": {
             "outlinewidth": 0,
             "ticks": ""
            },
            "colorscale": [
             [
              0,
              "#0d0887"
             ],
             [
              0.1111111111111111,
              "#46039f"
             ],
             [
              0.2222222222222222,
              "#7201a8"
             ],
             [
              0.3333333333333333,
              "#9c179e"
             ],
             [
              0.4444444444444444,
              "#bd3786"
             ],
             [
              0.5555555555555556,
              "#d8576b"
             ],
             [
              0.6666666666666666,
              "#ed7953"
             ],
             [
              0.7777777777777778,
              "#fb9f3a"
             ],
             [
              0.8888888888888888,
              "#fdca26"
             ],
             [
              1,
              "#f0f921"
             ]
            ],
            "type": "histogram2dcontour"
           }
          ],
          "mesh3d": [
           {
            "colorbar": {
             "outlinewidth": 0,
             "ticks": ""
            },
            "type": "mesh3d"
           }
          ],
          "parcoords": [
           {
            "line": {
             "colorbar": {
              "outlinewidth": 0,
              "ticks": ""
             }
            },
            "type": "parcoords"
           }
          ],
          "pie": [
           {
            "automargin": true,
            "type": "pie"
           }
          ],
          "scatter": [
           {
            "marker": {
             "colorbar": {
              "outlinewidth": 0,
              "ticks": ""
             }
            },
            "type": "scatter"
           }
          ],
          "scatter3d": [
           {
            "line": {
             "colorbar": {
              "outlinewidth": 0,
              "ticks": ""
             }
            },
            "marker": {
             "colorbar": {
              "outlinewidth": 0,
              "ticks": ""
             }
            },
            "type": "scatter3d"
           }
          ],
          "scattercarpet": [
           {
            "marker": {
             "colorbar": {
              "outlinewidth": 0,
              "ticks": ""
             }
            },
            "type": "scattercarpet"
           }
          ],
          "scattergeo": [
           {
            "marker": {
             "colorbar": {
              "outlinewidth": 0,
              "ticks": ""
             }
            },
            "type": "scattergeo"
           }
          ],
          "scattergl": [
           {
            "marker": {
             "colorbar": {
              "outlinewidth": 0,
              "ticks": ""
             }
            },
            "type": "scattergl"
           }
          ],
          "scattermapbox": [
           {
            "marker": {
             "colorbar": {
              "outlinewidth": 0,
              "ticks": ""
             }
            },
            "type": "scattermapbox"
           }
          ],
          "scatterpolar": [
           {
            "marker": {
             "colorbar": {
              "outlinewidth": 0,
              "ticks": ""
             }
            },
            "type": "scatterpolar"
           }
          ],
          "scatterpolargl": [
           {
            "marker": {
             "colorbar": {
              "outlinewidth": 0,
              "ticks": ""
             }
            },
            "type": "scatterpolargl"
           }
          ],
          "scatterternary": [
           {
            "marker": {
             "colorbar": {
              "outlinewidth": 0,
              "ticks": ""
             }
            },
            "type": "scatterternary"
           }
          ],
          "surface": [
           {
            "colorbar": {
             "outlinewidth": 0,
             "ticks": ""
            },
            "colorscale": [
             [
              0,
              "#0d0887"
             ],
             [
              0.1111111111111111,
              "#46039f"
             ],
             [
              0.2222222222222222,
              "#7201a8"
             ],
             [
              0.3333333333333333,
              "#9c179e"
             ],
             [
              0.4444444444444444,
              "#bd3786"
             ],
             [
              0.5555555555555556,
              "#d8576b"
             ],
             [
              0.6666666666666666,
              "#ed7953"
             ],
             [
              0.7777777777777778,
              "#fb9f3a"
             ],
             [
              0.8888888888888888,
              "#fdca26"
             ],
             [
              1,
              "#f0f921"
             ]
            ],
            "type": "surface"
           }
          ],
          "table": [
           {
            "cells": {
             "fill": {
              "color": "#EBF0F8"
             },
             "line": {
              "color": "white"
             }
            },
            "header": {
             "fill": {
              "color": "#C8D4E3"
             },
             "line": {
              "color": "white"
             }
            },
            "type": "table"
           }
          ]
         },
         "layout": {
          "annotationdefaults": {
           "arrowcolor": "#2a3f5f",
           "arrowhead": 0,
           "arrowwidth": 1
          },
          "autotypenumbers": "strict",
          "coloraxis": {
           "colorbar": {
            "outlinewidth": 0,
            "ticks": ""
           }
          },
          "colorscale": {
           "diverging": [
            [
             0,
             "#8e0152"
            ],
            [
             0.1,
             "#c51b7d"
            ],
            [
             0.2,
             "#de77ae"
            ],
            [
             0.3,
             "#f1b6da"
            ],
            [
             0.4,
             "#fde0ef"
            ],
            [
             0.5,
             "#f7f7f7"
            ],
            [
             0.6,
             "#e6f5d0"
            ],
            [
             0.7,
             "#b8e186"
            ],
            [
             0.8,
             "#7fbc41"
            ],
            [
             0.9,
             "#4d9221"
            ],
            [
             1,
             "#276419"
            ]
           ],
           "sequential": [
            [
             0,
             "#0d0887"
            ],
            [
             0.1111111111111111,
             "#46039f"
            ],
            [
             0.2222222222222222,
             "#7201a8"
            ],
            [
             0.3333333333333333,
             "#9c179e"
            ],
            [
             0.4444444444444444,
             "#bd3786"
            ],
            [
             0.5555555555555556,
             "#d8576b"
            ],
            [
             0.6666666666666666,
             "#ed7953"
            ],
            [
             0.7777777777777778,
             "#fb9f3a"
            ],
            [
             0.8888888888888888,
             "#fdca26"
            ],
            [
             1,
             "#f0f921"
            ]
           ],
           "sequentialminus": [
            [
             0,
             "#0d0887"
            ],
            [
             0.1111111111111111,
             "#46039f"
            ],
            [
             0.2222222222222222,
             "#7201a8"
            ],
            [
             0.3333333333333333,
             "#9c179e"
            ],
            [
             0.4444444444444444,
             "#bd3786"
            ],
            [
             0.5555555555555556,
             "#d8576b"
            ],
            [
             0.6666666666666666,
             "#ed7953"
            ],
            [
             0.7777777777777778,
             "#fb9f3a"
            ],
            [
             0.8888888888888888,
             "#fdca26"
            ],
            [
             1,
             "#f0f921"
            ]
           ]
          },
          "colorway": [
           "#636efa",
           "#EF553B",
           "#00cc96",
           "#ab63fa",
           "#FFA15A",
           "#19d3f3",
           "#FF6692",
           "#B6E880",
           "#FF97FF",
           "#FECB52"
          ],
          "font": {
           "color": "#2a3f5f"
          },
          "geo": {
           "bgcolor": "white",
           "lakecolor": "white",
           "landcolor": "#E5ECF6",
           "showlakes": true,
           "showland": true,
           "subunitcolor": "white"
          },
          "hoverlabel": {
           "align": "left"
          },
          "hovermode": "closest",
          "mapbox": {
           "style": "light"
          },
          "paper_bgcolor": "white",
          "plot_bgcolor": "#E5ECF6",
          "polar": {
           "angularaxis": {
            "gridcolor": "white",
            "linecolor": "white",
            "ticks": ""
           },
           "bgcolor": "#E5ECF6",
           "radialaxis": {
            "gridcolor": "white",
            "linecolor": "white",
            "ticks": ""
           }
          },
          "scene": {
           "xaxis": {
            "backgroundcolor": "#E5ECF6",
            "gridcolor": "white",
            "gridwidth": 2,
            "linecolor": "white",
            "showbackground": true,
            "ticks": "",
            "zerolinecolor": "white"
           },
           "yaxis": {
            "backgroundcolor": "#E5ECF6",
            "gridcolor": "white",
            "gridwidth": 2,
            "linecolor": "white",
            "showbackground": true,
            "ticks": "",
            "zerolinecolor": "white"
           },
           "zaxis": {
            "backgroundcolor": "#E5ECF6",
            "gridcolor": "white",
            "gridwidth": 2,
            "linecolor": "white",
            "showbackground": true,
            "ticks": "",
            "zerolinecolor": "white"
           }
          },
          "shapedefaults": {
           "line": {
            "color": "#2a3f5f"
           }
          },
          "ternary": {
           "aaxis": {
            "gridcolor": "white",
            "linecolor": "white",
            "ticks": ""
           },
           "baxis": {
            "gridcolor": "white",
            "linecolor": "white",
            "ticks": ""
           },
           "bgcolor": "#E5ECF6",
           "caxis": {
            "gridcolor": "white",
            "linecolor": "white",
            "ticks": ""
           }
          },
          "title": {
           "x": 0.05
          },
          "xaxis": {
           "automargin": true,
           "gridcolor": "white",
           "linecolor": "white",
           "ticks": "",
           "title": {
            "standoff": 15
           },
           "zerolinecolor": "white",
           "zerolinewidth": 2
          },
          "yaxis": {
           "automargin": true,
           "gridcolor": "white",
           "linecolor": "white",
           "ticks": "",
           "title": {
            "standoff": 15
           },
           "zerolinecolor": "white",
           "zerolinewidth": 2
          }
         }
        }
       }
      }
     },
     "metadata": {},
     "output_type": "display_data"
    }
   ],
   "source": [
    "my_pcoa = skbio.stats.ordination.pcoa(tableCity.values)\n",
    "\n",
    "fig1 = px.scatter(my_pcoa.samples, x = \"PC2\", y = \"PC1\", text=list(tableCity.columns))\n",
    "fig1.update_xaxes(autorange=\"reversed\")\n",
    "fig1.update_traces(textposition=\"bottom right\")\n",
    "\n",
    "fig2 = px.scatter_geo(cities, lon = 'long', lat = 'lat', size=\"pop\")\n",
    "fig2.update_layout(geo_scope=\"asia\")\n",
    "\n",
    "fig2"
   ]
  },
  {
   "cell_type": "code",
   "execution_count": 9,
   "metadata": {},
   "outputs": [
    {
     "data": {
      "application/vnd.plotly.v1+json": {
       "config": {
        "plotlyServerURL": "https://plot.ly"
       },
       "data": [
        {
         "hovertemplate": "PC2=%{x}<br>PC1=%{y}<br>text=%{text}<extra></extra>",
         "legendgroup": "",
         "marker": {
          "color": "#636efa",
          "symbol": "circle"
         },
         "mode": "markers+text",
         "name": "",
         "orientation": "v",
         "showlegend": false,
         "text": [
          "Shanghai",
          "Beijing",
          "Wuhan",
          "Chongqing",
          "Xian",
          "Chengdu",
          "Tianjin",
          "Shenyang",
          "Harbin",
          "Nanjing",
          "Guangzhou",
          "Taiyuan",
          "Changchun",
          "Changsha",
          "Jinan",
          "Shijiazhuang",
          "Dalian",
          "Zhengzhou",
          "Jiulong",
          "Jilin"
         ],
         "textposition": "bottom right",
         "type": "scatter",
         "x": [
          664.8579419476847,
          -262.0564139189476,
          130.97398998634876,
          -456.1112920711478,
          -511.0619787852586,
          -726.5431302913261,
          -155.44161341981427,
          106.15095617486189,
          33.00983268056171,
          402.77651431603647,
          476.65552133613744,
          -424.81945686629064,
          86.35210565396876,
          160.91776260203656,
          -19.24088648458755,
          -290.3175642175793,
          175.77976727899625,
          -159.58773150604225,
          603.9998771818027,
          163.70579840256264
         ],
         "xaxis": "x",
         "y": [
          -91.18766207374689,
          445.19240093896764,
          -534.6454084540093,
          -1000.0946723730921,
          -435.9067835992617,
          -1000.5772925666606,
          408.5975340005279,
          956.7741947051787,
          1459.9741123379813,
          -163.51323370862977,
          -1291.7779473845571,
          74.58918063558545,
          1233.318371135815,
          -825.6811062610725,
          170.9930359909683,
          179.76912831876916,
          609.2918729152345,
          -170.2959024014283,
          -1317.089908597132,
          1292.2700864405638
         ],
         "yaxis": "y"
        }
       ],
       "layout": {
        "legend": {
         "tracegroupgap": 0
        },
        "margin": {
         "t": 60
        },
        "template": {
         "data": {
          "bar": [
           {
            "error_x": {
             "color": "#2a3f5f"
            },
            "error_y": {
             "color": "#2a3f5f"
            },
            "marker": {
             "line": {
              "color": "#E5ECF6",
              "width": 0.5
             },
             "pattern": {
              "fillmode": "overlay",
              "size": 10,
              "solidity": 0.2
             }
            },
            "type": "bar"
           }
          ],
          "barpolar": [
           {
            "marker": {
             "line": {
              "color": "#E5ECF6",
              "width": 0.5
             },
             "pattern": {
              "fillmode": "overlay",
              "size": 10,
              "solidity": 0.2
             }
            },
            "type": "barpolar"
           }
          ],
          "carpet": [
           {
            "aaxis": {
             "endlinecolor": "#2a3f5f",
             "gridcolor": "white",
             "linecolor": "white",
             "minorgridcolor": "white",
             "startlinecolor": "#2a3f5f"
            },
            "baxis": {
             "endlinecolor": "#2a3f5f",
             "gridcolor": "white",
             "linecolor": "white",
             "minorgridcolor": "white",
             "startlinecolor": "#2a3f5f"
            },
            "type": "carpet"
           }
          ],
          "choropleth": [
           {
            "colorbar": {
             "outlinewidth": 0,
             "ticks": ""
            },
            "type": "choropleth"
           }
          ],
          "contour": [
           {
            "colorbar": {
             "outlinewidth": 0,
             "ticks": ""
            },
            "colorscale": [
             [
              0,
              "#0d0887"
             ],
             [
              0.1111111111111111,
              "#46039f"
             ],
             [
              0.2222222222222222,
              "#7201a8"
             ],
             [
              0.3333333333333333,
              "#9c179e"
             ],
             [
              0.4444444444444444,
              "#bd3786"
             ],
             [
              0.5555555555555556,
              "#d8576b"
             ],
             [
              0.6666666666666666,
              "#ed7953"
             ],
             [
              0.7777777777777778,
              "#fb9f3a"
             ],
             [
              0.8888888888888888,
              "#fdca26"
             ],
             [
              1,
              "#f0f921"
             ]
            ],
            "type": "contour"
           }
          ],
          "contourcarpet": [
           {
            "colorbar": {
             "outlinewidth": 0,
             "ticks": ""
            },
            "type": "contourcarpet"
           }
          ],
          "heatmap": [
           {
            "colorbar": {
             "outlinewidth": 0,
             "ticks": ""
            },
            "colorscale": [
             [
              0,
              "#0d0887"
             ],
             [
              0.1111111111111111,
              "#46039f"
             ],
             [
              0.2222222222222222,
              "#7201a8"
             ],
             [
              0.3333333333333333,
              "#9c179e"
             ],
             [
              0.4444444444444444,
              "#bd3786"
             ],
             [
              0.5555555555555556,
              "#d8576b"
             ],
             [
              0.6666666666666666,
              "#ed7953"
             ],
             [
              0.7777777777777778,
              "#fb9f3a"
             ],
             [
              0.8888888888888888,
              "#fdca26"
             ],
             [
              1,
              "#f0f921"
             ]
            ],
            "type": "heatmap"
           }
          ],
          "heatmapgl": [
           {
            "colorbar": {
             "outlinewidth": 0,
             "ticks": ""
            },
            "colorscale": [
             [
              0,
              "#0d0887"
             ],
             [
              0.1111111111111111,
              "#46039f"
             ],
             [
              0.2222222222222222,
              "#7201a8"
             ],
             [
              0.3333333333333333,
              "#9c179e"
             ],
             [
              0.4444444444444444,
              "#bd3786"
             ],
             [
              0.5555555555555556,
              "#d8576b"
             ],
             [
              0.6666666666666666,
              "#ed7953"
             ],
             [
              0.7777777777777778,
              "#fb9f3a"
             ],
             [
              0.8888888888888888,
              "#fdca26"
             ],
             [
              1,
              "#f0f921"
             ]
            ],
            "type": "heatmapgl"
           }
          ],
          "histogram": [
           {
            "marker": {
             "pattern": {
              "fillmode": "overlay",
              "size": 10,
              "solidity": 0.2
             }
            },
            "type": "histogram"
           }
          ],
          "histogram2d": [
           {
            "colorbar": {
             "outlinewidth": 0,
             "ticks": ""
            },
            "colorscale": [
             [
              0,
              "#0d0887"
             ],
             [
              0.1111111111111111,
              "#46039f"
             ],
             [
              0.2222222222222222,
              "#7201a8"
             ],
             [
              0.3333333333333333,
              "#9c179e"
             ],
             [
              0.4444444444444444,
              "#bd3786"
             ],
             [
              0.5555555555555556,
              "#d8576b"
             ],
             [
              0.6666666666666666,
              "#ed7953"
             ],
             [
              0.7777777777777778,
              "#fb9f3a"
             ],
             [
              0.8888888888888888,
              "#fdca26"
             ],
             [
              1,
              "#f0f921"
             ]
            ],
            "type": "histogram2d"
           }
          ],
          "histogram2dcontour": [
           {
            "colorbar": {
             "outlinewidth": 0,
             "ticks": ""
            },
            "colorscale": [
             [
              0,
              "#0d0887"
             ],
             [
              0.1111111111111111,
              "#46039f"
             ],
             [
              0.2222222222222222,
              "#7201a8"
             ],
             [
              0.3333333333333333,
              "#9c179e"
             ],
             [
              0.4444444444444444,
              "#bd3786"
             ],
             [
              0.5555555555555556,
              "#d8576b"
             ],
             [
              0.6666666666666666,
              "#ed7953"
             ],
             [
              0.7777777777777778,
              "#fb9f3a"
             ],
             [
              0.8888888888888888,
              "#fdca26"
             ],
             [
              1,
              "#f0f921"
             ]
            ],
            "type": "histogram2dcontour"
           }
          ],
          "mesh3d": [
           {
            "colorbar": {
             "outlinewidth": 0,
             "ticks": ""
            },
            "type": "mesh3d"
           }
          ],
          "parcoords": [
           {
            "line": {
             "colorbar": {
              "outlinewidth": 0,
              "ticks": ""
             }
            },
            "type": "parcoords"
           }
          ],
          "pie": [
           {
            "automargin": true,
            "type": "pie"
           }
          ],
          "scatter": [
           {
            "marker": {
             "colorbar": {
              "outlinewidth": 0,
              "ticks": ""
             }
            },
            "type": "scatter"
           }
          ],
          "scatter3d": [
           {
            "line": {
             "colorbar": {
              "outlinewidth": 0,
              "ticks": ""
             }
            },
            "marker": {
             "colorbar": {
              "outlinewidth": 0,
              "ticks": ""
             }
            },
            "type": "scatter3d"
           }
          ],
          "scattercarpet": [
           {
            "marker": {
             "colorbar": {
              "outlinewidth": 0,
              "ticks": ""
             }
            },
            "type": "scattercarpet"
           }
          ],
          "scattergeo": [
           {
            "marker": {
             "colorbar": {
              "outlinewidth": 0,
              "ticks": ""
             }
            },
            "type": "scattergeo"
           }
          ],
          "scattergl": [
           {
            "marker": {
             "colorbar": {
              "outlinewidth": 0,
              "ticks": ""
             }
            },
            "type": "scattergl"
           }
          ],
          "scattermapbox": [
           {
            "marker": {
             "colorbar": {
              "outlinewidth": 0,
              "ticks": ""
             }
            },
            "type": "scattermapbox"
           }
          ],
          "scatterpolar": [
           {
            "marker": {
             "colorbar": {
              "outlinewidth": 0,
              "ticks": ""
             }
            },
            "type": "scatterpolar"
           }
          ],
          "scatterpolargl": [
           {
            "marker": {
             "colorbar": {
              "outlinewidth": 0,
              "ticks": ""
             }
            },
            "type": "scatterpolargl"
           }
          ],
          "scatterternary": [
           {
            "marker": {
             "colorbar": {
              "outlinewidth": 0,
              "ticks": ""
             }
            },
            "type": "scatterternary"
           }
          ],
          "surface": [
           {
            "colorbar": {
             "outlinewidth": 0,
             "ticks": ""
            },
            "colorscale": [
             [
              0,
              "#0d0887"
             ],
             [
              0.1111111111111111,
              "#46039f"
             ],
             [
              0.2222222222222222,
              "#7201a8"
             ],
             [
              0.3333333333333333,
              "#9c179e"
             ],
             [
              0.4444444444444444,
              "#bd3786"
             ],
             [
              0.5555555555555556,
              "#d8576b"
             ],
             [
              0.6666666666666666,
              "#ed7953"
             ],
             [
              0.7777777777777778,
              "#fb9f3a"
             ],
             [
              0.8888888888888888,
              "#fdca26"
             ],
             [
              1,
              "#f0f921"
             ]
            ],
            "type": "surface"
           }
          ],
          "table": [
           {
            "cells": {
             "fill": {
              "color": "#EBF0F8"
             },
             "line": {
              "color": "white"
             }
            },
            "header": {
             "fill": {
              "color": "#C8D4E3"
             },
             "line": {
              "color": "white"
             }
            },
            "type": "table"
           }
          ]
         },
         "layout": {
          "annotationdefaults": {
           "arrowcolor": "#2a3f5f",
           "arrowhead": 0,
           "arrowwidth": 1
          },
          "autotypenumbers": "strict",
          "coloraxis": {
           "colorbar": {
            "outlinewidth": 0,
            "ticks": ""
           }
          },
          "colorscale": {
           "diverging": [
            [
             0,
             "#8e0152"
            ],
            [
             0.1,
             "#c51b7d"
            ],
            [
             0.2,
             "#de77ae"
            ],
            [
             0.3,
             "#f1b6da"
            ],
            [
             0.4,
             "#fde0ef"
            ],
            [
             0.5,
             "#f7f7f7"
            ],
            [
             0.6,
             "#e6f5d0"
            ],
            [
             0.7,
             "#b8e186"
            ],
            [
             0.8,
             "#7fbc41"
            ],
            [
             0.9,
             "#4d9221"
            ],
            [
             1,
             "#276419"
            ]
           ],
           "sequential": [
            [
             0,
             "#0d0887"
            ],
            [
             0.1111111111111111,
             "#46039f"
            ],
            [
             0.2222222222222222,
             "#7201a8"
            ],
            [
             0.3333333333333333,
             "#9c179e"
            ],
            [
             0.4444444444444444,
             "#bd3786"
            ],
            [
             0.5555555555555556,
             "#d8576b"
            ],
            [
             0.6666666666666666,
             "#ed7953"
            ],
            [
             0.7777777777777778,
             "#fb9f3a"
            ],
            [
             0.8888888888888888,
             "#fdca26"
            ],
            [
             1,
             "#f0f921"
            ]
           ],
           "sequentialminus": [
            [
             0,
             "#0d0887"
            ],
            [
             0.1111111111111111,
             "#46039f"
            ],
            [
             0.2222222222222222,
             "#7201a8"
            ],
            [
             0.3333333333333333,
             "#9c179e"
            ],
            [
             0.4444444444444444,
             "#bd3786"
            ],
            [
             0.5555555555555556,
             "#d8576b"
            ],
            [
             0.6666666666666666,
             "#ed7953"
            ],
            [
             0.7777777777777778,
             "#fb9f3a"
            ],
            [
             0.8888888888888888,
             "#fdca26"
            ],
            [
             1,
             "#f0f921"
            ]
           ]
          },
          "colorway": [
           "#636efa",
           "#EF553B",
           "#00cc96",
           "#ab63fa",
           "#FFA15A",
           "#19d3f3",
           "#FF6692",
           "#B6E880",
           "#FF97FF",
           "#FECB52"
          ],
          "font": {
           "color": "#2a3f5f"
          },
          "geo": {
           "bgcolor": "white",
           "lakecolor": "white",
           "landcolor": "#E5ECF6",
           "showlakes": true,
           "showland": true,
           "subunitcolor": "white"
          },
          "hoverlabel": {
           "align": "left"
          },
          "hovermode": "closest",
          "mapbox": {
           "style": "light"
          },
          "paper_bgcolor": "white",
          "plot_bgcolor": "#E5ECF6",
          "polar": {
           "angularaxis": {
            "gridcolor": "white",
            "linecolor": "white",
            "ticks": ""
           },
           "bgcolor": "#E5ECF6",
           "radialaxis": {
            "gridcolor": "white",
            "linecolor": "white",
            "ticks": ""
           }
          },
          "scene": {
           "xaxis": {
            "backgroundcolor": "#E5ECF6",
            "gridcolor": "white",
            "gridwidth": 2,
            "linecolor": "white",
            "showbackground": true,
            "ticks": "",
            "zerolinecolor": "white"
           },
           "yaxis": {
            "backgroundcolor": "#E5ECF6",
            "gridcolor": "white",
            "gridwidth": 2,
            "linecolor": "white",
            "showbackground": true,
            "ticks": "",
            "zerolinecolor": "white"
           },
           "zaxis": {
            "backgroundcolor": "#E5ECF6",
            "gridcolor": "white",
            "gridwidth": 2,
            "linecolor": "white",
            "showbackground": true,
            "ticks": "",
            "zerolinecolor": "white"
           }
          },
          "shapedefaults": {
           "line": {
            "color": "#2a3f5f"
           }
          },
          "ternary": {
           "aaxis": {
            "gridcolor": "white",
            "linecolor": "white",
            "ticks": ""
           },
           "baxis": {
            "gridcolor": "white",
            "linecolor": "white",
            "ticks": ""
           },
           "bgcolor": "#E5ECF6",
           "caxis": {
            "gridcolor": "white",
            "linecolor": "white",
            "ticks": ""
           }
          },
          "title": {
           "x": 0.05
          },
          "xaxis": {
           "automargin": true,
           "gridcolor": "white",
           "linecolor": "white",
           "ticks": "",
           "title": {
            "standoff": 15
           },
           "zerolinecolor": "white",
           "zerolinewidth": 2
          },
          "yaxis": {
           "automargin": true,
           "gridcolor": "white",
           "linecolor": "white",
           "ticks": "",
           "title": {
            "standoff": 15
           },
           "zerolinecolor": "white",
           "zerolinewidth": 2
          }
         }
        },
        "xaxis": {
         "anchor": "y",
         "autorange": "reversed",
         "domain": [
          0,
          1
         ],
         "title": {
          "text": "PC2"
         }
        },
        "yaxis": {
         "anchor": "x",
         "domain": [
          0,
          1
         ],
         "title": {
          "text": "PC1"
         }
        }
       }
      }
     },
     "metadata": {},
     "output_type": "display_data"
    }
   ],
   "source": [
    "fig1"
   ]
  },
  {
   "cell_type": "code",
   "execution_count": null,
   "metadata": {},
   "outputs": [],
   "source": []
  }
 ],
 "metadata": {
  "kernelspec": {
   "display_name": "base",
   "language": "python",
   "name": "python3"
  },
  "language_info": {
   "codemirror_mode": {
    "name": "ipython",
    "version": 3
   },
   "file_extension": ".py",
   "mimetype": "text/x-python",
   "name": "python",
   "nbconvert_exporter": "python",
   "pygments_lexer": "ipython3",
   "version": "3.9.12"
  },
  "orig_nbformat": 4
 },
 "nbformat": 4,
 "nbformat_minor": 2
}
