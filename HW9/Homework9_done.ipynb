{
 "cells": [
  {
   "cell_type": "markdown",
   "metadata": {},
   "source": [
    "# Homework 9:"
   ]
  },
  {
   "cell_type": "markdown",
   "metadata": {},
   "source": [
    "Repeat the procedure we did in class to map the cities of the US using a map and the results of a PCoA, but using a different country of your choosing.\n",
    "\n",
    "Tips:\n",
    "\n",
    "These are the packages that you will need:\n",
    "\n",
    "```\n",
    "import geopy.distance\n",
    "import pandas as pd\n",
    "import plotly.express as px\n",
    "import skbio\n",
    "```\n",
    "\n",
    "You will also need the `world_cities.csv` file to get the city names and coordinates for your country.\n",
    "\n",
    "1. Choose your country.\n",
    "2. Get only the cities of that country from the `world_cities.csv` file.\n",
    "3. Sort the cities by population and select the 20 to 50 most populated cities.\n",
    "4. Create a data frame with only these cities.\n",
    "5. Calculate the distance between the cities using their latitude/longitude data from your data frame (geopy).\n",
    "6. Create a data frame with a table of all the distances between each paur of cities. This needs to be in a distance matrix format, just like we imported from the `cities.csv` file for the US.\n",
    "7. Perform the PCoA using skbio.\n",
    "8. Plot the results of the PCoA using plotly express.\n",
    "9. Plot the map of the country with the cities using the latitude/longitude from your table using plotly express.\n",
    "10. That's it!"
   ]
  },
  {
   "cell_type": "code",
   "execution_count": 3,
   "metadata": {},
   "outputs": [],
   "source": [
    "import geopy.distance\n",
    "import pandas as pd\n",
    "import plotly.express as px\n",
    "import skbio\n",
    "\n",
    "cities = pd.read_csv(\"world_cities.csv\", sep=\"\\t\")\n",
    "\n",
    "cities = cities[cities[\"country.etc\"] == \"Brazil\"]\n",
    "cities = cities.sort_values(by=\"pop\", ascending=False).head(20)\n",
    "#cities\n",
    "\n",
    "# Distances\n",
    "myCities = list(cities[\"name\"])"
   ]
  },
  {
   "cell_type": "code",
   "execution_count": 4,
   "metadata": {},
   "outputs": [
    {
     "name": "stderr",
     "output_type": "stream",
     "text": [
      "/var/folders/hx/mhvsgnnd2s3_cc4f_0smyv800000gn/T/ipykernel_56411/275636434.py:9: FutureWarning: Calling float on a single element Series is deprecated and will raise a TypeError in the future. Use float(ser.iloc[0]) instead\n",
      "  coord1 = (float(cities[cities[\"name\"]==city1][\"lat\"]),float(cities[cities[\"name\"]==city1][\"long\"]))\n",
      "/var/folders/hx/mhvsgnnd2s3_cc4f_0smyv800000gn/T/ipykernel_56411/275636434.py:10: FutureWarning: Calling float on a single element Series is deprecated and will raise a TypeError in the future. Use float(ser.iloc[0]) instead\n",
      "  coord2 = (float(cities[cities[\"name\"]==city2][\"lat\"]),float(cities[cities[\"name\"]==city2][\"long\"]))\n"
     ]
    },
    {
     "data": {
      "text/html": [
       "<div>\n",
       "<style scoped>\n",
       "    .dataframe tbody tr th:only-of-type {\n",
       "        vertical-align: middle;\n",
       "    }\n",
       "\n",
       "    .dataframe tbody tr th {\n",
       "        vertical-align: top;\n",
       "    }\n",
       "\n",
       "    .dataframe thead th {\n",
       "        text-align: right;\n",
       "    }\n",
       "</style>\n",
       "<table border=\"1\" class=\"dataframe\">\n",
       "  <thead>\n",
       "    <tr style=\"text-align: right;\">\n",
       "      <th></th>\n",
       "      <th>Sao Paulo</th>\n",
       "      <th>Rio de Janeiro</th>\n",
       "      <th>Salvador</th>\n",
       "      <th>Belo Horizonte</th>\n",
       "      <th>Fortaleza</th>\n",
       "      <th>Brasilia</th>\n",
       "      <th>Curitiba</th>\n",
       "      <th>Manaus</th>\n",
       "      <th>Recife</th>\n",
       "      <th>Belem</th>\n",
       "      <th>Porto Alegre</th>\n",
       "      <th>Guarulhos</th>\n",
       "      <th>Goiania</th>\n",
       "      <th>Campinas</th>\n",
       "      <th>Nova Iguacu</th>\n",
       "      <th>Maceio</th>\n",
       "      <th>Sao Goncalo</th>\n",
       "      <th>Sao Luis</th>\n",
       "      <th>Duque de Caxias</th>\n",
       "      <th>Natal</th>\n",
       "    </tr>\n",
       "  </thead>\n",
       "  <tbody>\n",
       "    <tr>\n",
       "      <th>Sao Paulo</th>\n",
       "      <td>0.000000</td>\n",
       "      <td>357.720686</td>\n",
       "      <td>1450.010612</td>\n",
       "      <td>487.026283</td>\n",
       "      <td>2350.137472</td>\n",
       "      <td>868.351743</td>\n",
       "      <td>341.361719</td>\n",
       "      <td>2679.114122</td>\n",
       "      <td>2117.766734</td>\n",
       "      <td>2452.325989</td>\n",
       "      <td>853.355494</td>\n",
       "      <td>16.266542</td>\n",
       "      <td>802.425566</td>\n",
       "      <td>82.680884</td>\n",
       "      <td>335.254867</td>\n",
       "      <td>1923.266733</td>\n",
       "      <td>372.392966</td>\n",
       "      <td>2340.306500</td>\n",
       "      <td>350.249638</td>\n",
       "      <td>2311.855303</td>\n",
       "    </tr>\n",
       "    <tr>\n",
       "      <th>Rio de Janeiro</th>\n",
       "      <td>357.720686</td>\n",
       "      <td>0.000000</td>\n",
       "      <td>1207.265605</td>\n",
       "      <td>339.831909</td>\n",
       "      <td>2174.091295</td>\n",
       "      <td>931.355836</td>\n",
       "      <td>678.334517</td>\n",
       "      <td>2843.199032</td>\n",
       "      <td>1864.650397</td>\n",
       "      <td>2443.465168</td>\n",
       "      <td>1123.350285</td>\n",
       "      <td>342.291652</td>\n",
       "      <td>933.851124</td>\n",
       "      <td>398.039143</td>\n",
       "      <td>33.505699</td>\n",
       "      <td>1668.471887</td>\n",
       "      <td>15.428965</td>\n",
       "      <td>2261.253107</td>\n",
       "      <td>19.179410</td>\n",
       "      <td>2078.111666</td>\n",
       "    </tr>\n",
       "    <tr>\n",
       "      <th>Salvador</th>\n",
       "      <td>1450.010612</td>\n",
       "      <td>1207.265605</td>\n",
       "      <td>0.000000</td>\n",
       "      <td>963.596031</td>\n",
       "      <td>1016.463275</td>\n",
       "      <td>1061.299200</td>\n",
       "      <td>1783.196121</td>\n",
       "      <td>2607.303546</td>\n",
       "      <td>667.844972</td>\n",
       "      <td>1685.686906</td>\n",
       "      <td>2299.996080</td>\n",
       "      <td>1435.149313</td>\n",
       "      <td>1229.821294</td>\n",
       "      <td>1426.098356</td>\n",
       "      <td>1202.464427</td>\n",
       "      <td>474.317200</td>\n",
       "      <td>1194.620112</td>\n",
       "      <td>1322.505939</td>\n",
       "      <td>1198.142894</td>\n",
       "      <td>870.932972</td>\n",
       "    </tr>\n",
       "    <tr>\n",
       "      <th>Belo Horizonte</th>\n",
       "      <td>487.026283</td>\n",
       "      <td>339.831909</td>\n",
       "      <td>963.596031</td>\n",
       "      <td>0.000000</td>\n",
       "      <td>1877.607765</td>\n",
       "      <td>622.029152</td>\n",
       "      <td>820.294125</td>\n",
       "      <td>2550.625811</td>\n",
       "      <td>1631.440751</td>\n",
       "      <td>2103.708094</td>\n",
       "      <td>1339.609035</td>\n",
       "      <td>472.486703</td>\n",
       "      <td>664.530627</td>\n",
       "      <td>464.272957</td>\n",
       "      <td>316.017580</td>\n",
       "      <td>1437.411523</td>\n",
       "      <td>335.657889</td>\n",
       "      <td>1927.470065</td>\n",
       "      <td>322.250572</td>\n",
       "      <td>1825.077891</td>\n",
       "    </tr>\n",
       "    <tr>\n",
       "      <th>Fortaleza</th>\n",
       "      <td>2350.137472</td>\n",
       "      <td>2174.091295</td>\n",
       "      <td>1016.463275</td>\n",
       "      <td>1877.607765</td>\n",
       "      <td>0.000000</td>\n",
       "      <td>1674.250452</td>\n",
       "      <td>2654.059193</td>\n",
       "      <td>2382.336062</td>\n",
       "      <td>625.442919</td>\n",
       "      <td>1131.930678</td>\n",
       "      <td>3196.465904</td>\n",
       "      <td>2337.475200</td>\n",
       "      <td>1846.266232</td>\n",
       "      <td>2305.785127</td>\n",
       "      <td>2162.713307</td>\n",
       "      <td>721.053452</td>\n",
       "      <td>2163.397344</td>\n",
       "      <td>650.263325</td>\n",
       "      <td>2161.802629</td>\n",
       "      <td>435.479107</td>\n",
       "    </tr>\n",
       "    <tr>\n",
       "      <th>Brasilia</th>\n",
       "      <td>868.351743</td>\n",
       "      <td>931.355836</td>\n",
       "      <td>1061.299200</td>\n",
       "      <td>622.029152</td>\n",
       "      <td>1674.250452</td>\n",
       "      <td>0.000000</td>\n",
       "      <td>1076.900843</td>\n",
       "      <td>1929.132302</td>\n",
       "      <td>1650.466522</td>\n",
       "      <td>1587.392920</td>\n",
       "      <td>1615.059757</td>\n",
       "      <td>863.105745</td>\n",
       "      <td>177.895384</td>\n",
       "      <td>794.067207</td>\n",
       "      <td>900.599873</td>\n",
       "      <td>1483.852594</td>\n",
       "      <td>932.226956</td>\n",
       "      <td>1521.263030</td>\n",
       "      <td>912.206643</td>\n",
       "      <td>1771.754491</td>\n",
       "    </tr>\n",
       "    <tr>\n",
       "      <th>Curitiba</th>\n",
       "      <td>341.361719</td>\n",
       "      <td>678.334517</td>\n",
       "      <td>1783.196121</td>\n",
       "      <td>820.294125</td>\n",
       "      <td>2654.059193</td>\n",
       "      <td>1076.900843</td>\n",
       "      <td>0.000000</td>\n",
       "      <td>2721.966758</td>\n",
       "      <td>2450.861580</td>\n",
       "      <td>2654.708132</td>\n",
       "      <td>546.160871</td>\n",
       "      <td>357.395421</td>\n",
       "      <td>963.264941</td>\n",
       "      <td>357.369762</td>\n",
       "      <td>661.982098</td>\n",
       "      <td>2257.341710</td>\n",
       "      <td>693.712331</td>\n",
       "      <td>2591.935536</td>\n",
       "      <td>675.045855</td>\n",
       "      <td>2638.668399</td>\n",
       "    </tr>\n",
       "    <tr>\n",
       "      <th>Manaus</th>\n",
       "      <td>2679.114122</td>\n",
       "      <td>2843.199032</td>\n",
       "      <td>2607.303546</td>\n",
       "      <td>2550.625811</td>\n",
       "      <td>2382.336062</td>\n",
       "      <td>1929.132302</td>\n",
       "      <td>2721.966758</td>\n",
       "      <td>0.000000</td>\n",
       "      <td>2833.364381</td>\n",
       "      <td>1294.739019</td>\n",
       "      <td>3120.728863</td>\n",
       "      <td>2680.892192</td>\n",
       "      <td>1910.019709</td>\n",
       "      <td>2596.437988</td>\n",
       "      <td>2810.668558</td>\n",
       "      <td>2778.794728</td>\n",
       "      <td>2846.430843</td>\n",
       "      <td>1749.174552</td>\n",
       "      <td>2824.125329</td>\n",
       "      <td>2767.943019</td>\n",
       "    </tr>\n",
       "    <tr>\n",
       "      <th>Recife</th>\n",
       "      <td>2117.766734</td>\n",
       "      <td>1864.650397</td>\n",
       "      <td>667.844972</td>\n",
       "      <td>1631.440751</td>\n",
       "      <td>625.442919</td>\n",
       "      <td>1650.466522</td>\n",
       "      <td>2450.861580</td>\n",
       "      <td>2833.364381</td>\n",
       "      <td>0.000000</td>\n",
       "      <td>1675.160776</td>\n",
       "      <td>2966.843302</td>\n",
       "      <td>2102.859109</td>\n",
       "      <td>1827.357243</td>\n",
       "      <td>2093.648186</td>\n",
       "      <td>1862.325643</td>\n",
       "      <td>196.180599</td>\n",
       "      <td>1851.332523</td>\n",
       "      <td>1208.706846</td>\n",
       "      <td>1856.850321</td>\n",
       "      <td>254.316503</td>\n",
       "    </tr>\n",
       "    <tr>\n",
       "      <th>Belem</th>\n",
       "      <td>2452.325989</td>\n",
       "      <td>2443.465168</td>\n",
       "      <td>1685.686906</td>\n",
       "      <td>2103.708094</td>\n",
       "      <td>1131.930678</td>\n",
       "      <td>1587.392920</td>\n",
       "      <td>2654.708132</td>\n",
       "      <td>1294.739019</td>\n",
       "      <td>1675.160776</td>\n",
       "      <td>0.000000</td>\n",
       "      <td>3178.369682</td>\n",
       "      <td>2445.897223</td>\n",
       "      <td>1692.143661</td>\n",
       "      <td>2380.298515</td>\n",
       "      <td>2418.492203</td>\n",
       "      <td>1678.253232</td>\n",
       "      <td>2439.298982</td>\n",
       "      <td>481.737165</td>\n",
       "      <td>2425.664943</td>\n",
       "      <td>1551.816005</td>\n",
       "    </tr>\n",
       "    <tr>\n",
       "      <th>Porto Alegre</th>\n",
       "      <td>853.355494</td>\n",
       "      <td>1123.350285</td>\n",
       "      <td>2299.996080</td>\n",
       "      <td>1339.609035</td>\n",
       "      <td>3196.465904</td>\n",
       "      <td>1615.059757</td>\n",
       "      <td>546.160871</td>\n",
       "      <td>3120.728863</td>\n",
       "      <td>2966.843302</td>\n",
       "      <td>3178.369682</td>\n",
       "      <td>0.000000</td>\n",
       "      <td>867.445873</td>\n",
       "      <td>1488.678497</td>\n",
       "      <td>891.108360</td>\n",
       "      <td>1118.310235</td>\n",
       "      <td>2771.509739</td>\n",
       "      <td>1138.171500</td>\n",
       "      <td>3134.448058</td>\n",
       "      <td>1126.933623</td>\n",
       "      <td>3164.653378</td>\n",
       "    </tr>\n",
       "    <tr>\n",
       "      <th>Guarulhos</th>\n",
       "      <td>16.266542</td>\n",
       "      <td>342.291652</td>\n",
       "      <td>1435.149313</td>\n",
       "      <td>472.486703</td>\n",
       "      <td>2337.475200</td>\n",
       "      <td>863.105745</td>\n",
       "      <td>357.395421</td>\n",
       "      <td>2680.892192</td>\n",
       "      <td>2102.859109</td>\n",
       "      <td>2445.897223</td>\n",
       "      <td>867.445873</td>\n",
       "      <td>0.000000</td>\n",
       "      <td>800.343341</td>\n",
       "      <td>85.783958</td>\n",
       "      <td>319.490931</td>\n",
       "      <td>1908.277026</td>\n",
       "      <td>356.894997</td>\n",
       "      <td>2331.027438</td>\n",
       "      <td>334.578368</td>\n",
       "      <td>2297.484145</td>\n",
       "    </tr>\n",
       "    <tr>\n",
       "      <th>Goiania</th>\n",
       "      <td>802.425566</td>\n",
       "      <td>933.851124</td>\n",
       "      <td>1229.821294</td>\n",
       "      <td>664.530627</td>\n",
       "      <td>1846.266232</td>\n",
       "      <td>177.895384</td>\n",
       "      <td>963.264941</td>\n",
       "      <td>1910.019709</td>\n",
       "      <td>1827.357243</td>\n",
       "      <td>1692.143661</td>\n",
       "      <td>1488.678497</td>\n",
       "      <td>800.343341</td>\n",
       "      <td>0.000000</td>\n",
       "      <td>722.261642</td>\n",
       "      <td>901.101952</td>\n",
       "      <td>1659.212880</td>\n",
       "      <td>937.637339</td>\n",
       "      <td>1663.950647</td>\n",
       "      <td>914.852855</td>\n",
       "      <td>1949.615384</td>\n",
       "    </tr>\n",
       "    <tr>\n",
       "      <th>Campinas</th>\n",
       "      <td>82.680884</td>\n",
       "      <td>398.039143</td>\n",
       "      <td>1426.098356</td>\n",
       "      <td>464.272957</td>\n",
       "      <td>2305.785127</td>\n",
       "      <td>794.067207</td>\n",
       "      <td>357.369762</td>\n",
       "      <td>2596.437988</td>\n",
       "      <td>2093.648186</td>\n",
       "      <td>2380.298515</td>\n",
       "      <td>891.108360</td>\n",
       "      <td>85.783958</td>\n",
       "      <td>722.261642</td>\n",
       "      <td>0.000000</td>\n",
       "      <td>371.050209</td>\n",
       "      <td>1900.334152</td>\n",
       "      <td>411.553228</td>\n",
       "      <td>2277.986573</td>\n",
       "      <td>387.263806</td>\n",
       "      <td>2281.657411</td>\n",
       "    </tr>\n",
       "    <tr>\n",
       "      <th>Nova Iguacu</th>\n",
       "      <td>335.254867</td>\n",
       "      <td>33.505699</td>\n",
       "      <td>1202.464427</td>\n",
       "      <td>316.017580</td>\n",
       "      <td>2162.713307</td>\n",
       "      <td>900.599873</td>\n",
       "      <td>661.982098</td>\n",
       "      <td>2810.668558</td>\n",
       "      <td>1862.325643</td>\n",
       "      <td>2418.492203</td>\n",
       "      <td>1118.310235</td>\n",
       "      <td>319.490931</td>\n",
       "      <td>901.101952</td>\n",
       "      <td>371.050209</td>\n",
       "      <td>0.000000</td>\n",
       "      <td>1666.165932</td>\n",
       "      <td>42.538900</td>\n",
       "      <td>2241.100477</td>\n",
       "      <td>16.765518</td>\n",
       "      <td>2073.375682</td>\n",
       "    </tr>\n",
       "    <tr>\n",
       "      <th>Maceio</th>\n",
       "      <td>1923.266733</td>\n",
       "      <td>1668.471887</td>\n",
       "      <td>474.317200</td>\n",
       "      <td>1437.411523</td>\n",
       "      <td>721.053452</td>\n",
       "      <td>1483.852594</td>\n",
       "      <td>2257.341710</td>\n",
       "      <td>2778.794728</td>\n",
       "      <td>196.180599</td>\n",
       "      <td>1678.253232</td>\n",
       "      <td>2771.509739</td>\n",
       "      <td>1908.277026</td>\n",
       "      <td>1659.212880</td>\n",
       "      <td>1900.334152</td>\n",
       "      <td>1666.165932</td>\n",
       "      <td>0.000000</td>\n",
       "      <td>1655.160062</td>\n",
       "      <td>1232.805701</td>\n",
       "      <td>1660.672655</td>\n",
       "      <td>429.783682</td>\n",
       "    </tr>\n",
       "    <tr>\n",
       "      <th>Sao Goncalo</th>\n",
       "      <td>372.392966</td>\n",
       "      <td>15.428965</td>\n",
       "      <td>1194.620112</td>\n",
       "      <td>335.657889</td>\n",
       "      <td>2163.397344</td>\n",
       "      <td>932.226956</td>\n",
       "      <td>693.712331</td>\n",
       "      <td>2846.430843</td>\n",
       "      <td>1851.332523</td>\n",
       "      <td>2439.298982</td>\n",
       "      <td>1138.171500</td>\n",
       "      <td>356.894997</td>\n",
       "      <td>937.637339</td>\n",
       "      <td>411.553228</td>\n",
       "      <td>42.538900</td>\n",
       "      <td>1655.160062</td>\n",
       "      <td>0.000000</td>\n",
       "      <td>2254.296324</td>\n",
       "      <td>25.831207</td>\n",
       "      <td>2065.383206</td>\n",
       "    </tr>\n",
       "    <tr>\n",
       "      <th>Sao Luis</th>\n",
       "      <td>2340.306500</td>\n",
       "      <td>2261.253107</td>\n",
       "      <td>1322.505939</td>\n",
       "      <td>1927.470065</td>\n",
       "      <td>650.263325</td>\n",
       "      <td>1521.263030</td>\n",
       "      <td>2591.935536</td>\n",
       "      <td>1749.174552</td>\n",
       "      <td>1208.706846</td>\n",
       "      <td>481.737165</td>\n",
       "      <td>3134.448058</td>\n",
       "      <td>2331.027438</td>\n",
       "      <td>1663.950647</td>\n",
       "      <td>2277.986573</td>\n",
       "      <td>2241.100477</td>\n",
       "      <td>1232.805701</td>\n",
       "      <td>2254.296324</td>\n",
       "      <td>0.000000</td>\n",
       "      <td>2245.176132</td>\n",
       "      <td>1072.022149</td>\n",
       "    </tr>\n",
       "    <tr>\n",
       "      <th>Duque de Caxias</th>\n",
       "      <td>350.249638</td>\n",
       "      <td>19.179410</td>\n",
       "      <td>1198.142894</td>\n",
       "      <td>322.250572</td>\n",
       "      <td>2161.802629</td>\n",
       "      <td>912.206643</td>\n",
       "      <td>675.045855</td>\n",
       "      <td>2824.125329</td>\n",
       "      <td>1856.850321</td>\n",
       "      <td>2425.664943</td>\n",
       "      <td>1126.933623</td>\n",
       "      <td>334.578368</td>\n",
       "      <td>914.852855</td>\n",
       "      <td>387.263806</td>\n",
       "      <td>16.765518</td>\n",
       "      <td>1660.672655</td>\n",
       "      <td>25.831207</td>\n",
       "      <td>2245.176132</td>\n",
       "      <td>0.000000</td>\n",
       "      <td>2069.071068</td>\n",
       "    </tr>\n",
       "    <tr>\n",
       "      <th>Natal</th>\n",
       "      <td>2311.855303</td>\n",
       "      <td>2078.111666</td>\n",
       "      <td>870.932972</td>\n",
       "      <td>1825.077891</td>\n",
       "      <td>435.479107</td>\n",
       "      <td>1771.754491</td>\n",
       "      <td>2638.668399</td>\n",
       "      <td>2767.943019</td>\n",
       "      <td>254.316503</td>\n",
       "      <td>1551.816005</td>\n",
       "      <td>3164.653378</td>\n",
       "      <td>2297.484145</td>\n",
       "      <td>1949.615384</td>\n",
       "      <td>2281.657411</td>\n",
       "      <td>2073.375682</td>\n",
       "      <td>429.783682</td>\n",
       "      <td>2065.383206</td>\n",
       "      <td>1072.022149</td>\n",
       "      <td>2069.071068</td>\n",
       "      <td>0.000000</td>\n",
       "    </tr>\n",
       "  </tbody>\n",
       "</table>\n",
       "</div>"
      ],
      "text/plain": [
       "                   Sao Paulo  Rio de Janeiro     Salvador  Belo Horizonte   \n",
       "Sao Paulo           0.000000      357.720686  1450.010612      487.026283  \\\n",
       "Rio de Janeiro    357.720686        0.000000  1207.265605      339.831909   \n",
       "Salvador         1450.010612     1207.265605     0.000000      963.596031   \n",
       "Belo Horizonte    487.026283      339.831909   963.596031        0.000000   \n",
       "Fortaleza        2350.137472     2174.091295  1016.463275     1877.607765   \n",
       "Brasilia          868.351743      931.355836  1061.299200      622.029152   \n",
       "Curitiba          341.361719      678.334517  1783.196121      820.294125   \n",
       "Manaus           2679.114122     2843.199032  2607.303546     2550.625811   \n",
       "Recife           2117.766734     1864.650397   667.844972     1631.440751   \n",
       "Belem            2452.325989     2443.465168  1685.686906     2103.708094   \n",
       "Porto Alegre      853.355494     1123.350285  2299.996080     1339.609035   \n",
       "Guarulhos          16.266542      342.291652  1435.149313      472.486703   \n",
       "Goiania           802.425566      933.851124  1229.821294      664.530627   \n",
       "Campinas           82.680884      398.039143  1426.098356      464.272957   \n",
       "Nova Iguacu       335.254867       33.505699  1202.464427      316.017580   \n",
       "Maceio           1923.266733     1668.471887   474.317200     1437.411523   \n",
       "Sao Goncalo       372.392966       15.428965  1194.620112      335.657889   \n",
       "Sao Luis         2340.306500     2261.253107  1322.505939     1927.470065   \n",
       "Duque de Caxias   350.249638       19.179410  1198.142894      322.250572   \n",
       "Natal            2311.855303     2078.111666   870.932972     1825.077891   \n",
       "\n",
       "                   Fortaleza     Brasilia     Curitiba       Manaus   \n",
       "Sao Paulo        2350.137472   868.351743   341.361719  2679.114122  \\\n",
       "Rio de Janeiro   2174.091295   931.355836   678.334517  2843.199032   \n",
       "Salvador         1016.463275  1061.299200  1783.196121  2607.303546   \n",
       "Belo Horizonte   1877.607765   622.029152   820.294125  2550.625811   \n",
       "Fortaleza           0.000000  1674.250452  2654.059193  2382.336062   \n",
       "Brasilia         1674.250452     0.000000  1076.900843  1929.132302   \n",
       "Curitiba         2654.059193  1076.900843     0.000000  2721.966758   \n",
       "Manaus           2382.336062  1929.132302  2721.966758     0.000000   \n",
       "Recife            625.442919  1650.466522  2450.861580  2833.364381   \n",
       "Belem            1131.930678  1587.392920  2654.708132  1294.739019   \n",
       "Porto Alegre     3196.465904  1615.059757   546.160871  3120.728863   \n",
       "Guarulhos        2337.475200   863.105745   357.395421  2680.892192   \n",
       "Goiania          1846.266232   177.895384   963.264941  1910.019709   \n",
       "Campinas         2305.785127   794.067207   357.369762  2596.437988   \n",
       "Nova Iguacu      2162.713307   900.599873   661.982098  2810.668558   \n",
       "Maceio            721.053452  1483.852594  2257.341710  2778.794728   \n",
       "Sao Goncalo      2163.397344   932.226956   693.712331  2846.430843   \n",
       "Sao Luis          650.263325  1521.263030  2591.935536  1749.174552   \n",
       "Duque de Caxias  2161.802629   912.206643   675.045855  2824.125329   \n",
       "Natal             435.479107  1771.754491  2638.668399  2767.943019   \n",
       "\n",
       "                      Recife        Belem  Porto Alegre    Guarulhos   \n",
       "Sao Paulo        2117.766734  2452.325989    853.355494    16.266542  \\\n",
       "Rio de Janeiro   1864.650397  2443.465168   1123.350285   342.291652   \n",
       "Salvador          667.844972  1685.686906   2299.996080  1435.149313   \n",
       "Belo Horizonte   1631.440751  2103.708094   1339.609035   472.486703   \n",
       "Fortaleza         625.442919  1131.930678   3196.465904  2337.475200   \n",
       "Brasilia         1650.466522  1587.392920   1615.059757   863.105745   \n",
       "Curitiba         2450.861580  2654.708132    546.160871   357.395421   \n",
       "Manaus           2833.364381  1294.739019   3120.728863  2680.892192   \n",
       "Recife              0.000000  1675.160776   2966.843302  2102.859109   \n",
       "Belem            1675.160776     0.000000   3178.369682  2445.897223   \n",
       "Porto Alegre     2966.843302  3178.369682      0.000000   867.445873   \n",
       "Guarulhos        2102.859109  2445.897223    867.445873     0.000000   \n",
       "Goiania          1827.357243  1692.143661   1488.678497   800.343341   \n",
       "Campinas         2093.648186  2380.298515    891.108360    85.783958   \n",
       "Nova Iguacu      1862.325643  2418.492203   1118.310235   319.490931   \n",
       "Maceio            196.180599  1678.253232   2771.509739  1908.277026   \n",
       "Sao Goncalo      1851.332523  2439.298982   1138.171500   356.894997   \n",
       "Sao Luis         1208.706846   481.737165   3134.448058  2331.027438   \n",
       "Duque de Caxias  1856.850321  2425.664943   1126.933623   334.578368   \n",
       "Natal             254.316503  1551.816005   3164.653378  2297.484145   \n",
       "\n",
       "                     Goiania     Campinas  Nova Iguacu       Maceio   \n",
       "Sao Paulo         802.425566    82.680884   335.254867  1923.266733  \\\n",
       "Rio de Janeiro    933.851124   398.039143    33.505699  1668.471887   \n",
       "Salvador         1229.821294  1426.098356  1202.464427   474.317200   \n",
       "Belo Horizonte    664.530627   464.272957   316.017580  1437.411523   \n",
       "Fortaleza        1846.266232  2305.785127  2162.713307   721.053452   \n",
       "Brasilia          177.895384   794.067207   900.599873  1483.852594   \n",
       "Curitiba          963.264941   357.369762   661.982098  2257.341710   \n",
       "Manaus           1910.019709  2596.437988  2810.668558  2778.794728   \n",
       "Recife           1827.357243  2093.648186  1862.325643   196.180599   \n",
       "Belem            1692.143661  2380.298515  2418.492203  1678.253232   \n",
       "Porto Alegre     1488.678497   891.108360  1118.310235  2771.509739   \n",
       "Guarulhos         800.343341    85.783958   319.490931  1908.277026   \n",
       "Goiania             0.000000   722.261642   901.101952  1659.212880   \n",
       "Campinas          722.261642     0.000000   371.050209  1900.334152   \n",
       "Nova Iguacu       901.101952   371.050209     0.000000  1666.165932   \n",
       "Maceio           1659.212880  1900.334152  1666.165932     0.000000   \n",
       "Sao Goncalo       937.637339   411.553228    42.538900  1655.160062   \n",
       "Sao Luis         1663.950647  2277.986573  2241.100477  1232.805701   \n",
       "Duque de Caxias   914.852855   387.263806    16.765518  1660.672655   \n",
       "Natal            1949.615384  2281.657411  2073.375682   429.783682   \n",
       "\n",
       "                 Sao Goncalo     Sao Luis  Duque de Caxias        Natal  \n",
       "Sao Paulo         372.392966  2340.306500       350.249638  2311.855303  \n",
       "Rio de Janeiro     15.428965  2261.253107        19.179410  2078.111666  \n",
       "Salvador         1194.620112  1322.505939      1198.142894   870.932972  \n",
       "Belo Horizonte    335.657889  1927.470065       322.250572  1825.077891  \n",
       "Fortaleza        2163.397344   650.263325      2161.802629   435.479107  \n",
       "Brasilia          932.226956  1521.263030       912.206643  1771.754491  \n",
       "Curitiba          693.712331  2591.935536       675.045855  2638.668399  \n",
       "Manaus           2846.430843  1749.174552      2824.125329  2767.943019  \n",
       "Recife           1851.332523  1208.706846      1856.850321   254.316503  \n",
       "Belem            2439.298982   481.737165      2425.664943  1551.816005  \n",
       "Porto Alegre     1138.171500  3134.448058      1126.933623  3164.653378  \n",
       "Guarulhos         356.894997  2331.027438       334.578368  2297.484145  \n",
       "Goiania           937.637339  1663.950647       914.852855  1949.615384  \n",
       "Campinas          411.553228  2277.986573       387.263806  2281.657411  \n",
       "Nova Iguacu        42.538900  2241.100477        16.765518  2073.375682  \n",
       "Maceio           1655.160062  1232.805701      1660.672655   429.783682  \n",
       "Sao Goncalo         0.000000  2254.296324        25.831207  2065.383206  \n",
       "Sao Luis         2254.296324     0.000000      2245.176132  1072.022149  \n",
       "Duque de Caxias    25.831207  2245.176132         0.000000  2069.071068  \n",
       "Natal            2065.383206  1072.022149      2069.071068     0.000000  "
      ]
     },
     "execution_count": 4,
     "metadata": {},
     "output_type": "execute_result"
    }
   ],
   "source": [
    "dictCity = {}\n",
    "for city1 in myCities:\n",
    "    if city1 not in dictCity:\n",
    "        dictCity[city1] = {}\n",
    "    for city2 in myCities:\n",
    "        if city1 == city2:\n",
    "            dist = 0\n",
    "        else:\n",
    "            coord1 = (float(cities[cities[\"name\"]==city1][\"lat\"]),float(cities[cities[\"name\"]==city1][\"long\"]))\n",
    "            coord2 = (float(cities[cities[\"name\"]==city2][\"lat\"]),float(cities[cities[\"name\"]==city2][\"long\"]))\n",
    "\n",
    "            dist = geopy.distance.distance(coord1, coord2).km\n",
    "        dictCity[city1][city2] = dist\n",
    "tableCity = pd.DataFrame(dictCity)\n",
    "#tableCity\n",
    "tableCity"
   ]
  },
  {
   "cell_type": "code",
   "execution_count": 2,
   "metadata": {},
   "outputs": [
    {
     "data": {
      "application/vnd.plotly.v1+json": {
       "config": {
        "plotlyServerURL": "https://plot.ly"
       },
       "data": [
        {
         "geo": "geo",
         "hovertemplate": "pop=%{marker.size}<br>lat=%{lat}<br>long=%{lon}<extra></extra>",
         "lat": [
          -23.53,
          -22.91,
          -12.97,
          -19.92,
          -3.78,
          -15.78,
          -25.42,
          -3.12,
          -8.08,
          -1.44,
          -30.04,
          -23.46,
          -16.72,
          -22.91,
          -22.74,
          -9.65,
          -22.84,
          -2.5,
          -22.77,
          -5.8
         ],
         "legendgroup": "",
         "lon": [
          -46.63,
          -43.2,
          -38.5,
          -43.94,
          -38.59,
          -47.91,
          -49.29,
          -60.02,
          -34.92,
          -48.5,
          -51.22,
          -46.49,
          -49.26,
          -47.08,
          -43.47,
          -35.75,
          -43.07,
          -44.3,
          -43.31,
          -35.22
         ],
         "marker": {
          "color": "#636efa",
          "size": [
           10059502,
           6055582,
           2762758,
           2399577,
           2349632,
           2260541,
           1746484,
           1642982,
           1489055,
           1436287,
           1380983,
           1198633,
           1188787,
           1047239,
           1019753,
           989318,
           949783,
           935083,
           829012,
           774336
          ],
          "sizemode": "area",
          "sizeref": 25148.755,
          "symbol": "circle"
         },
         "mode": "markers",
         "name": "",
         "showlegend": false,
         "type": "scattergeo"
        }
       ],
       "layout": {
        "geo": {
         "center": {},
         "domain": {
          "x": [
           0,
           1
          ],
          "y": [
           0,
           1
          ]
         },
         "scope": "south america"
        },
        "legend": {
         "itemsizing": "constant",
         "tracegroupgap": 0
        },
        "margin": {
         "t": 60
        },
        "template": {
         "data": {
          "bar": [
           {
            "error_x": {
             "color": "#2a3f5f"
            },
            "error_y": {
             "color": "#2a3f5f"
            },
            "marker": {
             "line": {
              "color": "#E5ECF6",
              "width": 0.5
             }
            },
            "type": "bar"
           }
          ],
          "barpolar": [
           {
            "marker": {
             "line": {
              "color": "#E5ECF6",
              "width": 0.5
             }
            },
            "type": "barpolar"
           }
          ],
          "carpet": [
           {
            "aaxis": {
             "endlinecolor": "#2a3f5f",
             "gridcolor": "white",
             "linecolor": "white",
             "minorgridcolor": "white",
             "startlinecolor": "#2a3f5f"
            },
            "baxis": {
             "endlinecolor": "#2a3f5f",
             "gridcolor": "white",
             "linecolor": "white",
             "minorgridcolor": "white",
             "startlinecolor": "#2a3f5f"
            },
            "type": "carpet"
           }
          ],
          "choropleth": [
           {
            "colorbar": {
             "outlinewidth": 0,
             "ticks": ""
            },
            "type": "choropleth"
           }
          ],
          "contour": [
           {
            "colorbar": {
             "outlinewidth": 0,
             "ticks": ""
            },
            "colorscale": [
             [
              0,
              "#0d0887"
             ],
             [
              0.1111111111111111,
              "#46039f"
             ],
             [
              0.2222222222222222,
              "#7201a8"
             ],
             [
              0.3333333333333333,
              "#9c179e"
             ],
             [
              0.4444444444444444,
              "#bd3786"
             ],
             [
              0.5555555555555556,
              "#d8576b"
             ],
             [
              0.6666666666666666,
              "#ed7953"
             ],
             [
              0.7777777777777778,
              "#fb9f3a"
             ],
             [
              0.8888888888888888,
              "#fdca26"
             ],
             [
              1,
              "#f0f921"
             ]
            ],
            "type": "contour"
           }
          ],
          "contourcarpet": [
           {
            "colorbar": {
             "outlinewidth": 0,
             "ticks": ""
            },
            "type": "contourcarpet"
           }
          ],
          "heatmap": [
           {
            "colorbar": {
             "outlinewidth": 0,
             "ticks": ""
            },
            "colorscale": [
             [
              0,
              "#0d0887"
             ],
             [
              0.1111111111111111,
              "#46039f"
             ],
             [
              0.2222222222222222,
              "#7201a8"
             ],
             [
              0.3333333333333333,
              "#9c179e"
             ],
             [
              0.4444444444444444,
              "#bd3786"
             ],
             [
              0.5555555555555556,
              "#d8576b"
             ],
             [
              0.6666666666666666,
              "#ed7953"
             ],
             [
              0.7777777777777778,
              "#fb9f3a"
             ],
             [
              0.8888888888888888,
              "#fdca26"
             ],
             [
              1,
              "#f0f921"
             ]
            ],
            "type": "heatmap"
           }
          ],
          "heatmapgl": [
           {
            "colorbar": {
             "outlinewidth": 0,
             "ticks": ""
            },
            "colorscale": [
             [
              0,
              "#0d0887"
             ],
             [
              0.1111111111111111,
              "#46039f"
             ],
             [
              0.2222222222222222,
              "#7201a8"
             ],
             [
              0.3333333333333333,
              "#9c179e"
             ],
             [
              0.4444444444444444,
              "#bd3786"
             ],
             [
              0.5555555555555556,
              "#d8576b"
             ],
             [
              0.6666666666666666,
              "#ed7953"
             ],
             [
              0.7777777777777778,
              "#fb9f3a"
             ],
             [
              0.8888888888888888,
              "#fdca26"
             ],
             [
              1,
              "#f0f921"
             ]
            ],
            "type": "heatmapgl"
           }
          ],
          "histogram": [
           {
            "marker": {
             "colorbar": {
              "outlinewidth": 0,
              "ticks": ""
             }
            },
            "type": "histogram"
           }
          ],
          "histogram2d": [
           {
            "colorbar": {
             "outlinewidth": 0,
             "ticks": ""
            },
            "colorscale": [
             [
              0,
              "#0d0887"
             ],
             [
              0.1111111111111111,
              "#46039f"
             ],
             [
              0.2222222222222222,
              "#7201a8"
             ],
             [
              0.3333333333333333,
              "#9c179e"
             ],
             [
              0.4444444444444444,
              "#bd3786"
             ],
             [
              0.5555555555555556,
              "#d8576b"
             ],
             [
              0.6666666666666666,
              "#ed7953"
             ],
             [
              0.7777777777777778,
              "#fb9f3a"
             ],
             [
              0.8888888888888888,
              "#fdca26"
             ],
             [
              1,
              "#f0f921"
             ]
            ],
            "type": "histogram2d"
           }
          ],
          "histogram2dcontour": [
           {
            "colorbar": {
             "outlinewidth": 0,
             "ticks": ""
            },
            "colorscale": [
             [
              0,
              "#0d0887"
             ],
             [
              0.1111111111111111,
              "#46039f"
             ],
             [
              0.2222222222222222,
              "#7201a8"
             ],
             [
              0.3333333333333333,
              "#9c179e"
             ],
             [
              0.4444444444444444,
              "#bd3786"
             ],
             [
              0.5555555555555556,
              "#d8576b"
             ],
             [
              0.6666666666666666,
              "#ed7953"
             ],
             [
              0.7777777777777778,
              "#fb9f3a"
             ],
             [
              0.8888888888888888,
              "#fdca26"
             ],
             [
              1,
              "#f0f921"
             ]
            ],
            "type": "histogram2dcontour"
           }
          ],
          "mesh3d": [
           {
            "colorbar": {
             "outlinewidth": 0,
             "ticks": ""
            },
            "type": "mesh3d"
           }
          ],
          "parcoords": [
           {
            "line": {
             "colorbar": {
              "outlinewidth": 0,
              "ticks": ""
             }
            },
            "type": "parcoords"
           }
          ],
          "pie": [
           {
            "automargin": true,
            "type": "pie"
           }
          ],
          "scatter": [
           {
            "marker": {
             "colorbar": {
              "outlinewidth": 0,
              "ticks": ""
             }
            },
            "type": "scatter"
           }
          ],
          "scatter3d": [
           {
            "line": {
             "colorbar": {
              "outlinewidth": 0,
              "ticks": ""
             }
            },
            "marker": {
             "colorbar": {
              "outlinewidth": 0,
              "ticks": ""
             }
            },
            "type": "scatter3d"
           }
          ],
          "scattercarpet": [
           {
            "marker": {
             "colorbar": {
              "outlinewidth": 0,
              "ticks": ""
             }
            },
            "type": "scattercarpet"
           }
          ],
          "scattergeo": [
           {
            "marker": {
             "colorbar": {
              "outlinewidth": 0,
              "ticks": ""
             }
            },
            "type": "scattergeo"
           }
          ],
          "scattergl": [
           {
            "marker": {
             "colorbar": {
              "outlinewidth": 0,
              "ticks": ""
             }
            },
            "type": "scattergl"
           }
          ],
          "scattermapbox": [
           {
            "marker": {
             "colorbar": {
              "outlinewidth": 0,
              "ticks": ""
             }
            },
            "type": "scattermapbox"
           }
          ],
          "scatterpolar": [
           {
            "marker": {
             "colorbar": {
              "outlinewidth": 0,
              "ticks": ""
             }
            },
            "type": "scatterpolar"
           }
          ],
          "scatterpolargl": [
           {
            "marker": {
             "colorbar": {
              "outlinewidth": 0,
              "ticks": ""
             }
            },
            "type": "scatterpolargl"
           }
          ],
          "scatterternary": [
           {
            "marker": {
             "colorbar": {
              "outlinewidth": 0,
              "ticks": ""
             }
            },
            "type": "scatterternary"
           }
          ],
          "surface": [
           {
            "colorbar": {
             "outlinewidth": 0,
             "ticks": ""
            },
            "colorscale": [
             [
              0,
              "#0d0887"
             ],
             [
              0.1111111111111111,
              "#46039f"
             ],
             [
              0.2222222222222222,
              "#7201a8"
             ],
             [
              0.3333333333333333,
              "#9c179e"
             ],
             [
              0.4444444444444444,
              "#bd3786"
             ],
             [
              0.5555555555555556,
              "#d8576b"
             ],
             [
              0.6666666666666666,
              "#ed7953"
             ],
             [
              0.7777777777777778,
              "#fb9f3a"
             ],
             [
              0.8888888888888888,
              "#fdca26"
             ],
             [
              1,
              "#f0f921"
             ]
            ],
            "type": "surface"
           }
          ],
          "table": [
           {
            "cells": {
             "fill": {
              "color": "#EBF0F8"
             },
             "line": {
              "color": "white"
             }
            },
            "header": {
             "fill": {
              "color": "#C8D4E3"
             },
             "line": {
              "color": "white"
             }
            },
            "type": "table"
           }
          ]
         },
         "layout": {
          "annotationdefaults": {
           "arrowcolor": "#2a3f5f",
           "arrowhead": 0,
           "arrowwidth": 1
          },
          "autotypenumbers": "strict",
          "coloraxis": {
           "colorbar": {
            "outlinewidth": 0,
            "ticks": ""
           }
          },
          "colorscale": {
           "diverging": [
            [
             0,
             "#8e0152"
            ],
            [
             0.1,
             "#c51b7d"
            ],
            [
             0.2,
             "#de77ae"
            ],
            [
             0.3,
             "#f1b6da"
            ],
            [
             0.4,
             "#fde0ef"
            ],
            [
             0.5,
             "#f7f7f7"
            ],
            [
             0.6,
             "#e6f5d0"
            ],
            [
             0.7,
             "#b8e186"
            ],
            [
             0.8,
             "#7fbc41"
            ],
            [
             0.9,
             "#4d9221"
            ],
            [
             1,
             "#276419"
            ]
           ],
           "sequential": [
            [
             0,
             "#0d0887"
            ],
            [
             0.1111111111111111,
             "#46039f"
            ],
            [
             0.2222222222222222,
             "#7201a8"
            ],
            [
             0.3333333333333333,
             "#9c179e"
            ],
            [
             0.4444444444444444,
             "#bd3786"
            ],
            [
             0.5555555555555556,
             "#d8576b"
            ],
            [
             0.6666666666666666,
             "#ed7953"
            ],
            [
             0.7777777777777778,
             "#fb9f3a"
            ],
            [
             0.8888888888888888,
             "#fdca26"
            ],
            [
             1,
             "#f0f921"
            ]
           ],
           "sequentialminus": [
            [
             0,
             "#0d0887"
            ],
            [
             0.1111111111111111,
             "#46039f"
            ],
            [
             0.2222222222222222,
             "#7201a8"
            ],
            [
             0.3333333333333333,
             "#9c179e"
            ],
            [
             0.4444444444444444,
             "#bd3786"
            ],
            [
             0.5555555555555556,
             "#d8576b"
            ],
            [
             0.6666666666666666,
             "#ed7953"
            ],
            [
             0.7777777777777778,
             "#fb9f3a"
            ],
            [
             0.8888888888888888,
             "#fdca26"
            ],
            [
             1,
             "#f0f921"
            ]
           ]
          },
          "colorway": [
           "#636efa",
           "#EF553B",
           "#00cc96",
           "#ab63fa",
           "#FFA15A",
           "#19d3f3",
           "#FF6692",
           "#B6E880",
           "#FF97FF",
           "#FECB52"
          ],
          "font": {
           "color": "#2a3f5f"
          },
          "geo": {
           "bgcolor": "white",
           "lakecolor": "white",
           "landcolor": "#E5ECF6",
           "showlakes": true,
           "showland": true,
           "subunitcolor": "white"
          },
          "hoverlabel": {
           "align": "left"
          },
          "hovermode": "closest",
          "mapbox": {
           "style": "light"
          },
          "paper_bgcolor": "white",
          "plot_bgcolor": "#E5ECF6",
          "polar": {
           "angularaxis": {
            "gridcolor": "white",
            "linecolor": "white",
            "ticks": ""
           },
           "bgcolor": "#E5ECF6",
           "radialaxis": {
            "gridcolor": "white",
            "linecolor": "white",
            "ticks": ""
           }
          },
          "scene": {
           "xaxis": {
            "backgroundcolor": "#E5ECF6",
            "gridcolor": "white",
            "gridwidth": 2,
            "linecolor": "white",
            "showbackground": true,
            "ticks": "",
            "zerolinecolor": "white"
           },
           "yaxis": {
            "backgroundcolor": "#E5ECF6",
            "gridcolor": "white",
            "gridwidth": 2,
            "linecolor": "white",
            "showbackground": true,
            "ticks": "",
            "zerolinecolor": "white"
           },
           "zaxis": {
            "backgroundcolor": "#E5ECF6",
            "gridcolor": "white",
            "gridwidth": 2,
            "linecolor": "white",
            "showbackground": true,
            "ticks": "",
            "zerolinecolor": "white"
           }
          },
          "shapedefaults": {
           "line": {
            "color": "#2a3f5f"
           }
          },
          "ternary": {
           "aaxis": {
            "gridcolor": "white",
            "linecolor": "white",
            "ticks": ""
           },
           "baxis": {
            "gridcolor": "white",
            "linecolor": "white",
            "ticks": ""
           },
           "bgcolor": "#E5ECF6",
           "caxis": {
            "gridcolor": "white",
            "linecolor": "white",
            "ticks": ""
           }
          },
          "title": {
           "x": 0.05
          },
          "xaxis": {
           "automargin": true,
           "gridcolor": "white",
           "linecolor": "white",
           "ticks": "",
           "title": {
            "standoff": 15
           },
           "zerolinecolor": "white",
           "zerolinewidth": 2
          },
          "yaxis": {
           "automargin": true,
           "gridcolor": "white",
           "linecolor": "white",
           "ticks": "",
           "title": {
            "standoff": 15
           },
           "zerolinecolor": "white",
           "zerolinewidth": 2
          }
         }
        }
       }
      }
     },
     "metadata": {},
     "output_type": "display_data"
    }
   ],
   "source": [
    "\n",
    "# Compute the Principal Coordinates Analysis\n",
    "my_pcoa = skbio.stats.ordination.pcoa(tableCity.values)\n",
    "\n",
    "fig1 = px.scatter(my_pcoa.samples, x = \"PC2\", y = \"PC1\", text=list(tableCity.columns))\n",
    "fig1.update_xaxes(autorange=\"reversed\")\n",
    "fig1.update_traces(textposition=\"bottom right\")\n",
    "\n",
    "fig2 = px.scatter_geo(cities, lon = 'long', lat = 'lat', size=\"pop\")\n",
    "fig2.update_layout(geo_scope=\"south america\")"
   ]
  },
  {
   "cell_type": "code",
   "execution_count": 3,
   "metadata": {},
   "outputs": [
    {
     "data": {
      "application/vnd.plotly.v1+json": {
       "config": {
        "plotlyServerURL": "https://plot.ly"
       },
       "data": [
        {
         "hovertemplate": "PC2=%{x}<br>PC1=%{y}<br>text=%{text}<extra></extra>",
         "legendgroup": "",
         "marker": {
          "color": "#636efa",
          "symbol": "circle"
         },
         "mode": "markers+text",
         "name": "",
         "orientation": "v",
         "showlegend": false,
         "text": [
          "Sao Paulo",
          "Rio de Janeiro",
          "Salvador",
          "Belo Horizonte",
          "Fortaleza",
          "Brasilia",
          "Curitiba",
          "Manaus",
          "Recife",
          "Belem",
          "Porto Alegre",
          "Guarulhos",
          "Goiania",
          "Campinas",
          "Nova Iguacu",
          "Maceio",
          "Sao Goncalo",
          "Sao Luis",
          "Duque de Caxias",
          "Natal"
         ],
         "textposition": "bottom right",
         "type": "scatter",
         "x": [
          34.80634954828765,
          -297.3318849174938,
          -567.8675505783642,
          -153.07764366780495,
          -351.30070767467595,
          359.81763272660095,
          252.8961241527103,
          1987.1902519015375,
          -845.7911257818066,
          781.9697890245452,
          315.7337325158784,
          22.413971570672096,
          476.8734831021708,
          95.60049897492446,
          -266.07780420861985,
          -790.3050078268869,
          -308.9364062431958,
          299.54318263792413,
          -282.99848213436144,
          -763.1584031220426
         ],
         "xaxis": "x",
         "y": [
          -874.8467018332468,
          -731.9800301032175,
          445.03485518671295,
          -424.90234735909445,
          1444.0264628023858,
          -71.2571982740512,
          -1140.5070290212718,
          961.92138259416,
          1051.1798576801505,
          1462.2153045605937,
          -1681.375754030452,
          -864.0974861141444,
          -205.96197928450377,
          -818.5903162388843,
          -719.3789431089236,
          862.9281680304106,
          -721.645529358749,
          1451.7319290911373,
          -719.192990880641,
          1294.6983456616324
         ],
         "yaxis": "y"
        }
       ],
       "layout": {
        "legend": {
         "tracegroupgap": 0
        },
        "margin": {
         "t": 60
        },
        "template": {
         "data": {
          "bar": [
           {
            "error_x": {
             "color": "#2a3f5f"
            },
            "error_y": {
             "color": "#2a3f5f"
            },
            "marker": {
             "line": {
              "color": "#E5ECF6",
              "width": 0.5
             }
            },
            "type": "bar"
           }
          ],
          "barpolar": [
           {
            "marker": {
             "line": {
              "color": "#E5ECF6",
              "width": 0.5
             }
            },
            "type": "barpolar"
           }
          ],
          "carpet": [
           {
            "aaxis": {
             "endlinecolor": "#2a3f5f",
             "gridcolor": "white",
             "linecolor": "white",
             "minorgridcolor": "white",
             "startlinecolor": "#2a3f5f"
            },
            "baxis": {
             "endlinecolor": "#2a3f5f",
             "gridcolor": "white",
             "linecolor": "white",
             "minorgridcolor": "white",
             "startlinecolor": "#2a3f5f"
            },
            "type": "carpet"
           }
          ],
          "choropleth": [
           {
            "colorbar": {
             "outlinewidth": 0,
             "ticks": ""
            },
            "type": "choropleth"
           }
          ],
          "contour": [
           {
            "colorbar": {
             "outlinewidth": 0,
             "ticks": ""
            },
            "colorscale": [
             [
              0,
              "#0d0887"
             ],
             [
              0.1111111111111111,
              "#46039f"
             ],
             [
              0.2222222222222222,
              "#7201a8"
             ],
             [
              0.3333333333333333,
              "#9c179e"
             ],
             [
              0.4444444444444444,
              "#bd3786"
             ],
             [
              0.5555555555555556,
              "#d8576b"
             ],
             [
              0.6666666666666666,
              "#ed7953"
             ],
             [
              0.7777777777777778,
              "#fb9f3a"
             ],
             [
              0.8888888888888888,
              "#fdca26"
             ],
             [
              1,
              "#f0f921"
             ]
            ],
            "type": "contour"
           }
          ],
          "contourcarpet": [
           {
            "colorbar": {
             "outlinewidth": 0,
             "ticks": ""
            },
            "type": "contourcarpet"
           }
          ],
          "heatmap": [
           {
            "colorbar": {
             "outlinewidth": 0,
             "ticks": ""
            },
            "colorscale": [
             [
              0,
              "#0d0887"
             ],
             [
              0.1111111111111111,
              "#46039f"
             ],
             [
              0.2222222222222222,
              "#7201a8"
             ],
             [
              0.3333333333333333,
              "#9c179e"
             ],
             [
              0.4444444444444444,
              "#bd3786"
             ],
             [
              0.5555555555555556,
              "#d8576b"
             ],
             [
              0.6666666666666666,
              "#ed7953"
             ],
             [
              0.7777777777777778,
              "#fb9f3a"
             ],
             [
              0.8888888888888888,
              "#fdca26"
             ],
             [
              1,
              "#f0f921"
             ]
            ],
            "type": "heatmap"
           }
          ],
          "heatmapgl": [
           {
            "colorbar": {
             "outlinewidth": 0,
             "ticks": ""
            },
            "colorscale": [
             [
              0,
              "#0d0887"
             ],
             [
              0.1111111111111111,
              "#46039f"
             ],
             [
              0.2222222222222222,
              "#7201a8"
             ],
             [
              0.3333333333333333,
              "#9c179e"
             ],
             [
              0.4444444444444444,
              "#bd3786"
             ],
             [
              0.5555555555555556,
              "#d8576b"
             ],
             [
              0.6666666666666666,
              "#ed7953"
             ],
             [
              0.7777777777777778,
              "#fb9f3a"
             ],
             [
              0.8888888888888888,
              "#fdca26"
             ],
             [
              1,
              "#f0f921"
             ]
            ],
            "type": "heatmapgl"
           }
          ],
          "histogram": [
           {
            "marker": {
             "colorbar": {
              "outlinewidth": 0,
              "ticks": ""
             }
            },
            "type": "histogram"
           }
          ],
          "histogram2d": [
           {
            "colorbar": {
             "outlinewidth": 0,
             "ticks": ""
            },
            "colorscale": [
             [
              0,
              "#0d0887"
             ],
             [
              0.1111111111111111,
              "#46039f"
             ],
             [
              0.2222222222222222,
              "#7201a8"
             ],
             [
              0.3333333333333333,
              "#9c179e"
             ],
             [
              0.4444444444444444,
              "#bd3786"
             ],
             [
              0.5555555555555556,
              "#d8576b"
             ],
             [
              0.6666666666666666,
              "#ed7953"
             ],
             [
              0.7777777777777778,
              "#fb9f3a"
             ],
             [
              0.8888888888888888,
              "#fdca26"
             ],
             [
              1,
              "#f0f921"
             ]
            ],
            "type": "histogram2d"
           }
          ],
          "histogram2dcontour": [
           {
            "colorbar": {
             "outlinewidth": 0,
             "ticks": ""
            },
            "colorscale": [
             [
              0,
              "#0d0887"
             ],
             [
              0.1111111111111111,
              "#46039f"
             ],
             [
              0.2222222222222222,
              "#7201a8"
             ],
             [
              0.3333333333333333,
              "#9c179e"
             ],
             [
              0.4444444444444444,
              "#bd3786"
             ],
             [
              0.5555555555555556,
              "#d8576b"
             ],
             [
              0.6666666666666666,
              "#ed7953"
             ],
             [
              0.7777777777777778,
              "#fb9f3a"
             ],
             [
              0.8888888888888888,
              "#fdca26"
             ],
             [
              1,
              "#f0f921"
             ]
            ],
            "type": "histogram2dcontour"
           }
          ],
          "mesh3d": [
           {
            "colorbar": {
             "outlinewidth": 0,
             "ticks": ""
            },
            "type": "mesh3d"
           }
          ],
          "parcoords": [
           {
            "line": {
             "colorbar": {
              "outlinewidth": 0,
              "ticks": ""
             }
            },
            "type": "parcoords"
           }
          ],
          "pie": [
           {
            "automargin": true,
            "type": "pie"
           }
          ],
          "scatter": [
           {
            "marker": {
             "colorbar": {
              "outlinewidth": 0,
              "ticks": ""
             }
            },
            "type": "scatter"
           }
          ],
          "scatter3d": [
           {
            "line": {
             "colorbar": {
              "outlinewidth": 0,
              "ticks": ""
             }
            },
            "marker": {
             "colorbar": {
              "outlinewidth": 0,
              "ticks": ""
             }
            },
            "type": "scatter3d"
           }
          ],
          "scattercarpet": [
           {
            "marker": {
             "colorbar": {
              "outlinewidth": 0,
              "ticks": ""
             }
            },
            "type": "scattercarpet"
           }
          ],
          "scattergeo": [
           {
            "marker": {
             "colorbar": {
              "outlinewidth": 0,
              "ticks": ""
             }
            },
            "type": "scattergeo"
           }
          ],
          "scattergl": [
           {
            "marker": {
             "colorbar": {
              "outlinewidth": 0,
              "ticks": ""
             }
            },
            "type": "scattergl"
           }
          ],
          "scattermapbox": [
           {
            "marker": {
             "colorbar": {
              "outlinewidth": 0,
              "ticks": ""
             }
            },
            "type": "scattermapbox"
           }
          ],
          "scatterpolar": [
           {
            "marker": {
             "colorbar": {
              "outlinewidth": 0,
              "ticks": ""
             }
            },
            "type": "scatterpolar"
           }
          ],
          "scatterpolargl": [
           {
            "marker": {
             "colorbar": {
              "outlinewidth": 0,
              "ticks": ""
             }
            },
            "type": "scatterpolargl"
           }
          ],
          "scatterternary": [
           {
            "marker": {
             "colorbar": {
              "outlinewidth": 0,
              "ticks": ""
             }
            },
            "type": "scatterternary"
           }
          ],
          "surface": [
           {
            "colorbar": {
             "outlinewidth": 0,
             "ticks": ""
            },
            "colorscale": [
             [
              0,
              "#0d0887"
             ],
             [
              0.1111111111111111,
              "#46039f"
             ],
             [
              0.2222222222222222,
              "#7201a8"
             ],
             [
              0.3333333333333333,
              "#9c179e"
             ],
             [
              0.4444444444444444,
              "#bd3786"
             ],
             [
              0.5555555555555556,
              "#d8576b"
             ],
             [
              0.6666666666666666,
              "#ed7953"
             ],
             [
              0.7777777777777778,
              "#fb9f3a"
             ],
             [
              0.8888888888888888,
              "#fdca26"
             ],
             [
              1,
              "#f0f921"
             ]
            ],
            "type": "surface"
           }
          ],
          "table": [
           {
            "cells": {
             "fill": {
              "color": "#EBF0F8"
             },
             "line": {
              "color": "white"
             }
            },
            "header": {
             "fill": {
              "color": "#C8D4E3"
             },
             "line": {
              "color": "white"
             }
            },
            "type": "table"
           }
          ]
         },
         "layout": {
          "annotationdefaults": {
           "arrowcolor": "#2a3f5f",
           "arrowhead": 0,
           "arrowwidth": 1
          },
          "autotypenumbers": "strict",
          "coloraxis": {
           "colorbar": {
            "outlinewidth": 0,
            "ticks": ""
           }
          },
          "colorscale": {
           "diverging": [
            [
             0,
             "#8e0152"
            ],
            [
             0.1,
             "#c51b7d"
            ],
            [
             0.2,
             "#de77ae"
            ],
            [
             0.3,
             "#f1b6da"
            ],
            [
             0.4,
             "#fde0ef"
            ],
            [
             0.5,
             "#f7f7f7"
            ],
            [
             0.6,
             "#e6f5d0"
            ],
            [
             0.7,
             "#b8e186"
            ],
            [
             0.8,
             "#7fbc41"
            ],
            [
             0.9,
             "#4d9221"
            ],
            [
             1,
             "#276419"
            ]
           ],
           "sequential": [
            [
             0,
             "#0d0887"
            ],
            [
             0.1111111111111111,
             "#46039f"
            ],
            [
             0.2222222222222222,
             "#7201a8"
            ],
            [
             0.3333333333333333,
             "#9c179e"
            ],
            [
             0.4444444444444444,
             "#bd3786"
            ],
            [
             0.5555555555555556,
             "#d8576b"
            ],
            [
             0.6666666666666666,
             "#ed7953"
            ],
            [
             0.7777777777777778,
             "#fb9f3a"
            ],
            [
             0.8888888888888888,
             "#fdca26"
            ],
            [
             1,
             "#f0f921"
            ]
           ],
           "sequentialminus": [
            [
             0,
             "#0d0887"
            ],
            [
             0.1111111111111111,
             "#46039f"
            ],
            [
             0.2222222222222222,
             "#7201a8"
            ],
            [
             0.3333333333333333,
             "#9c179e"
            ],
            [
             0.4444444444444444,
             "#bd3786"
            ],
            [
             0.5555555555555556,
             "#d8576b"
            ],
            [
             0.6666666666666666,
             "#ed7953"
            ],
            [
             0.7777777777777778,
             "#fb9f3a"
            ],
            [
             0.8888888888888888,
             "#fdca26"
            ],
            [
             1,
             "#f0f921"
            ]
           ]
          },
          "colorway": [
           "#636efa",
           "#EF553B",
           "#00cc96",
           "#ab63fa",
           "#FFA15A",
           "#19d3f3",
           "#FF6692",
           "#B6E880",
           "#FF97FF",
           "#FECB52"
          ],
          "font": {
           "color": "#2a3f5f"
          },
          "geo": {
           "bgcolor": "white",
           "lakecolor": "white",
           "landcolor": "#E5ECF6",
           "showlakes": true,
           "showland": true,
           "subunitcolor": "white"
          },
          "hoverlabel": {
           "align": "left"
          },
          "hovermode": "closest",
          "mapbox": {
           "style": "light"
          },
          "paper_bgcolor": "white",
          "plot_bgcolor": "#E5ECF6",
          "polar": {
           "angularaxis": {
            "gridcolor": "white",
            "linecolor": "white",
            "ticks": ""
           },
           "bgcolor": "#E5ECF6",
           "radialaxis": {
            "gridcolor": "white",
            "linecolor": "white",
            "ticks": ""
           }
          },
          "scene": {
           "xaxis": {
            "backgroundcolor": "#E5ECF6",
            "gridcolor": "white",
            "gridwidth": 2,
            "linecolor": "white",
            "showbackground": true,
            "ticks": "",
            "zerolinecolor": "white"
           },
           "yaxis": {
            "backgroundcolor": "#E5ECF6",
            "gridcolor": "white",
            "gridwidth": 2,
            "linecolor": "white",
            "showbackground": true,
            "ticks": "",
            "zerolinecolor": "white"
           },
           "zaxis": {
            "backgroundcolor": "#E5ECF6",
            "gridcolor": "white",
            "gridwidth": 2,
            "linecolor": "white",
            "showbackground": true,
            "ticks": "",
            "zerolinecolor": "white"
           }
          },
          "shapedefaults": {
           "line": {
            "color": "#2a3f5f"
           }
          },
          "ternary": {
           "aaxis": {
            "gridcolor": "white",
            "linecolor": "white",
            "ticks": ""
           },
           "baxis": {
            "gridcolor": "white",
            "linecolor": "white",
            "ticks": ""
           },
           "bgcolor": "#E5ECF6",
           "caxis": {
            "gridcolor": "white",
            "linecolor": "white",
            "ticks": ""
           }
          },
          "title": {
           "x": 0.05
          },
          "xaxis": {
           "automargin": true,
           "gridcolor": "white",
           "linecolor": "white",
           "ticks": "",
           "title": {
            "standoff": 15
           },
           "zerolinecolor": "white",
           "zerolinewidth": 2
          },
          "yaxis": {
           "automargin": true,
           "gridcolor": "white",
           "linecolor": "white",
           "ticks": "",
           "title": {
            "standoff": 15
           },
           "zerolinecolor": "white",
           "zerolinewidth": 2
          }
         }
        },
        "xaxis": {
         "anchor": "y",
         "autorange": "reversed",
         "domain": [
          0,
          1
         ],
         "title": {
          "text": "PC2"
         }
        },
        "yaxis": {
         "anchor": "x",
         "domain": [
          0,
          1
         ],
         "title": {
          "text": "PC1"
         }
        }
       }
      }
     },
     "metadata": {},
     "output_type": "display_data"
    }
   ],
   "source": [
    "fig1"
   ]
  },
  {
   "cell_type": "code",
   "execution_count": null,
   "metadata": {},
   "outputs": [],
   "source": []
  }
 ],
 "metadata": {
  "interpreter": {
   "hash": "3d34dfc05add918534fc4fbc8388141eeebf4dc57e1a2d23c8cdc5a91642362b"
  },
  "kernelspec": {
   "display_name": "Python 3.9.7 64-bit ('base': conda)",
   "language": "python",
   "name": "python3"
  },
  "language_info": {
   "codemirror_mode": {
    "name": "ipython",
    "version": 3
   },
   "file_extension": ".py",
   "mimetype": "text/x-python",
   "name": "python",
   "nbconvert_exporter": "python",
   "pygments_lexer": "ipython3",
   "version": "3.9.12"
  },
  "orig_nbformat": 4
 },
 "nbformat": 4,
 "nbformat_minor": 2
}
