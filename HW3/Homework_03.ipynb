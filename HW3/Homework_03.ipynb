{
 "cells": [
  {
   "cell_type": "markdown",
   "metadata": {},
   "source": [
    "# Homework 3:\n",
    "\n",
    "Do these exercises individually. You should use this ipython notebook and for each question you should have one code cell with you answer. Copy this notebook to your individual local repository in a directory called \"Homework_03\" and when you are done push the changes and sync with your github repository. If any of the questions need a separate file to be read by your program, add it to the same directory and make sure to push the file as well.\n",
    "\n",
    "A lot of these exercises are from this webpage: http://www.ling.gu.se/~lager/python_exercises.html. There are answers to these exercises online. Please do not copy the answers, you can search online for ideas but avoid using the text of the question on google."
   ]
  },
  {
   "cell_type": "markdown",
   "metadata": {},
   "source": [
    "__Exercise 1.__ Write a Python program that asks the user for the radius of a circle and computes the area of the circle."
   ]
  },
  {
   "cell_type": "code",
   "execution_count": 17,
   "metadata": {
    "collapsed": true
   },
   "outputs": [
    {
     "ename": "ValueError",
     "evalue": "could not convert string to float: ''",
     "output_type": "error",
     "traceback": [
      "\u001b[0;31m---------------------------------------------------------------------------\u001b[0m",
      "\u001b[0;31mValueError\u001b[0m                                Traceback (most recent call last)",
      "\u001b[1;32m/Users/yufeimeng/Desktop/coursehomework/HW3/Homework_03.ipynb Cell 3\u001b[0m in \u001b[0;36m<cell line: 2>\u001b[0;34m()\u001b[0m\n\u001b[1;32m      <a href='vscode-notebook-cell:/Users/yufeimeng/Desktop/coursehomework/HW3/Homework_03.ipynb#W2sZmlsZQ%3D%3D?line=0'>1</a>\u001b[0m \u001b[39mimport\u001b[39;00m \u001b[39mmath\u001b[39;00m \u001b[39mas\u001b[39;00m \u001b[39mm\u001b[39;00m\n\u001b[0;32m----> <a href='vscode-notebook-cell:/Users/yufeimeng/Desktop/coursehomework/HW3/Homework_03.ipynb#W2sZmlsZQ%3D%3D?line=1'>2</a>\u001b[0m rad \u001b[39m=\u001b[39m \u001b[39mfloat\u001b[39;49m(\u001b[39minput\u001b[39;49m(\u001b[39m\"\u001b[39;49m\u001b[39mWhat is your beloved radius of the circle?\u001b[39;49m\u001b[39m\"\u001b[39;49m))\n\u001b[1;32m      <a href='vscode-notebook-cell:/Users/yufeimeng/Desktop/coursehomework/HW3/Homework_03.ipynb#W2sZmlsZQ%3D%3D?line=2'>3</a>\u001b[0m area \u001b[39m=\u001b[39m m\u001b[39m.\u001b[39mpi \u001b[39m*\u001b[39m rad \u001b[39m*\u001b[39m rad\n\u001b[1;32m      <a href='vscode-notebook-cell:/Users/yufeimeng/Desktop/coursehomework/HW3/Homework_03.ipynb#W2sZmlsZQ%3D%3D?line=3'>4</a>\u001b[0m \u001b[39mprint\u001b[39m (\u001b[39m\"\u001b[39m\u001b[39mThe area of your circle is:\u001b[39m\u001b[39m\"\u001b[39m, area)\n",
      "\u001b[0;31mValueError\u001b[0m: could not convert string to float: ''"
     ]
    }
   ],
   "source": [
    "import math as m\n",
    "rad = float(input(\"What is your beloved radius of the circle?\"))\n",
    "area = m.pi * rad * rad\n",
    "print (\"The area of your circle is:\", area)\n",
    "\n",
    "\n",
    "\n",
    "\n",
    "\n"
   ]
  },
  {
   "cell_type": "markdown",
   "metadata": {},
   "source": [
    "__Exercise 2.__ Write a Python program that asks the user for a filename, and returns the extension of the file. Examples:\n",
    "\n",
    "* **test.txt**, extension is txt\n",
    "* **notebook.ipynb**, extension is ipynb\n",
    "* **case.1.txt**, extension is txt\n",
    "* **item.1.2.a.doc**, extension is doc\n",
    "* **file**, no extension, your program should return something saying that there is no extension"
   ]
  },
  {
   "cell_type": "code",
   "execution_count": null,
   "metadata": {
    "collapsed": true
   },
   "outputs": [
    {
     "name": "stdout",
     "output_type": "stream",
     "text": [
      "The extension is text\n"
     ]
    }
   ],
   "source": [
    "name = input (\"What is your file name?\")\n",
    "length = len(name)\n",
    "if '.' not in name:\n",
    "        print (\"Oh no, your file name doesn't have an extension.\")\n",
    "for i in range (-1, -(length+1), -1):\n",
    "    if name[i] == '.':\n",
    "        print (\"The extension is\", name[i+1:])\n",
    "        break\n",
    "        "
   ]
  },
  {
   "cell_type": "markdown",
   "metadata": {},
   "source": [
    "__Exercise 3.__ Write a Python program that requests two points from the user (in the form X, Y) computes the euclidian distance between the two points. In other words, given two points (x1,y1) and (x2, y2), return the distance between the points, given by:\n",
    "\n",
    "$$\n",
    "\\begin{equation*} d=\\sqrt{(x_2-x_1)^2+(y_2-y_1)^2} \\end{equation*}\n",
    "$$"
   ]
  },
  {
   "cell_type": "code",
   "execution_count": null,
   "metadata": {
    "collapsed": true
   },
   "outputs": [
    {
     "name": "stdout",
     "output_type": "stream",
     "text": [
      "The distance between your two points is: 1.4142135623730951\n"
     ]
    }
   ],
   "source": [
    "import math as m\n",
    "x1 = float (input (\"What is your x1?\"))\n",
    "y1 = float (input (\"What is your y1?\"))\n",
    "x2 = float (input (\"What is your x2?\"))\n",
    "y2 = float (input (\"Your y2? (I'm tired)\"))\n",
    "\n",
    "distance = m.sqrt((x2-x1)**2+(y2-y1)**2)\n",
    "\n",
    "print (\"The distance between your two points is:\", distance)\n",
    "\n"
   ]
  },
  {
   "cell_type": "markdown",
   "metadata": {},
   "source": [
    "__Exercise 4.__ Create a **function** called `max_in_list()` that takes a list of numbers of any length and returns the largest one without using python's builtin `max()`. Your program should work for any numbers, including negative numbers. "
   ]
  },
  {
   "cell_type": "code",
   "execution_count": null,
   "metadata": {},
   "outputs": [
    {
     "name": "stdout",
     "output_type": "stream",
     "text": [
      "Your candidates are: ['-123', '-1', '-2546']\n",
      "The maximum number in your list is -----(drum roll)--- -1 !!!\n"
     ]
    }
   ],
   "source": [
    "def max_in_list():\n",
    "    inputstr = input (\"Please enter your list of numbers separated by space:\")\n",
    "    candidate = inputstr.split()\n",
    "    print (\"Your candidates are:\", candidate)\n",
    "\n",
    "    max = ''\n",
    "    l = len(candidate)\n",
    "    for i in range(l):\n",
    "        if i+1 >= l:\n",
    "            print (\"The maximum number in your list is -----(drum roll)---\", max, \"!!!\")\n",
    "        elif int(candidate[i+1]) >= int(candidate[i]):\n",
    "            max = max.replace(max, candidate[i+1])\n",
    "        else:\n",
    "            max = max         \n",
    "\n",
    "\n",
    "#I learned the magic replace & split functions online :)\n",
    "    \n",
    "max_in_list()\n",
    "\n"
   ]
  },
  {
   "cell_type": "markdown",
   "metadata": {},
   "source": [
    "__Exercise 5.__ Write a **function** `translate()` that will translate a text into pig Latin. According to wikipedia here are the rules for pig latin:\n",
    "\n",
    "1. For words that begin with consonant sounds, all letters before the initial vowel are placed at the end of the word sequence. Then, \"ay\" (some people just add \"a\") is added, as in the following examples:\n",
    "  * pig → igpay\n",
    "  * banana → ananabay\n",
    "  * trash → ashtray\n",
    "  * happy → appyhay\n",
    "2. For words which begin with vowel sounds or silent letter, one just adds \"yay\" to the end. Examples are:\n",
    "  * eat → eatyay\n",
    "  * omelet → omeletyay\n",
    "  \n",
    "Your program should work at least for the following text:\n",
    "\n",
    "Hello. My name is Andre. \n",
    "\n",
    "And it should return:\n",
    "\n",
    "ellohay. ymay amenay isyay andreyay. "
   ]
  },
  {
   "cell_type": "code",
   "execution_count": null,
   "metadata": {
    "collapsed": true
   },
   "outputs": [
    {
     "name": "stdout",
     "output_type": "stream",
     "text": [
      "Your sentence is: ['joshua', 'is', \"irene's\", 'lover']\n",
      "Your piggy sentence is:  oshuajay isyay irene'syay overlay\n"
     ]
    }
   ],
   "source": [
    "vowel = \"aeiouAEIOU\"\n",
    "sentence = input (\"What is your sentence here?\")\n",
    "sentence = sentence.lower().split()\n",
    "print (\"Your sentence is:\", sentence)\n",
    "\n",
    "def translate():\n",
    "    output = ''\n",
    "    \n",
    "    for i in sentence:\n",
    "        dot = ''\n",
    "        if i[0] in vowel:\n",
    "            if '.' in i:\n",
    "                dot = dot + '.'\n",
    "                i = i.replace('.','')\n",
    "            else:\n",
    "                dot = dot\n",
    "            i = i + 'yay' + dot\n",
    "            output = output + ' ' + i \n",
    "        elif i[0] not in vowel:\n",
    "            output = output + ' ' + notvowel(i) \n",
    "\n",
    "    print (\"Your piggy sentence is:\", output)\n",
    "\n",
    "\n",
    "def notvowel(givenword):\n",
    "    dot = ''\n",
    "    if '.' in givenword:\n",
    "        dot = dot + '.'\n",
    "        givenword = givenword.replace('.', '')\n",
    "    else:\n",
    "        dot = dot\n",
    "        \n",
    "    for i in range(len(givenword)):\n",
    "        if i+1 == len(givenword):\n",
    "            givenword = givenword[::-1] + 'ay' + dot\n",
    "            return givenword\n",
    "        elif givenword[i] in vowel:\n",
    "            givenword = givenword[i:] + givenword[0:i] + 'ay' + dot\n",
    "            return givenword\n",
    "translate() \n",
    "\n",
    "#took me a year to finish this T^T"
   ]
  },
  {
   "attachments": {},
   "cell_type": "markdown",
   "metadata": {},
   "source": [
    "__Exercise 6.__  Palindromes are words or phrases that read the same when written backwards.Create a **function** `is_palindrome()` that receives a string variable and determines if it is a palindrome. \n",
    "\n",
    "The function should return true or false, and most importantly, should ignore punctuation, capitalization, and spacing.\n",
    "\n",
    "Palindrome examples: \n",
    "```\n",
    "\"Go hang a salami I'm a lasagna hog.\", \n",
    "\"Was it a rat I saw?\", \n",
    "\"Step on no pets\", \n",
    "\"Sit on a potato pan, Otis\", \n",
    "\"Lisa Bonet ate no basil\", \n",
    "\"Satan, oscillate my metallic sonatas\", \n",
    "\"I roamed under it as a tired nude Maori\", \n",
    "\"Rise to vote sir\", \n",
    "\"Dammit, I'm mad!\"\n",
    "```"
   ]
  },
  {
   "cell_type": "code",
   "execution_count": null,
   "metadata": {
    "collapsed": true
   },
   "outputs": [
    {
     "data": {
      "text/plain": [
       "True"
      ]
     },
     "execution_count": 115,
     "metadata": {},
     "output_type": "execute_result"
    }
   ],
   "source": [
    "def is_palindrome():\n",
    "    spectacles = [\" \",\",\",\".\",\";\",\"?\",\"!\",\"'\"]\n",
    "\n",
    "    original = input (\"What is your possible palindrome?\")\n",
    "    original = original.lower().strip()\n",
    "\n",
    "    for i in original:\n",
    "        if i in spectacles:\n",
    "            original = original.replace(i, '')\n",
    "        else:\n",
    "            original = original\n",
    "    if original == original[::-1]:\n",
    "        return True\n",
    "    else:\n",
    "        return False\n",
    "    \n",
    "is_palindrome()\n",
    "\n"
   ]
  },
  {
   "cell_type": "markdown",
   "metadata": {},
   "source": [
    "__Exercise 7.__ Write a program that asks the user for a file name, opens the file, reads each line, and uses the `is_palindrome()` function from the previous exercise to print the line to the screen if it is a palindrome.\n",
    "\n",
    "I'll test the program with the palindromes.txt file in this directory. When given this file, your program should output:\n",
    "\n",
    "```\n",
    "was it a rat i saw?!?\n",
    "Are we not drawn onward, we few, drawn onward to new era?\n",
    "A man, a plan, a canal - Panama\n",
    "Never odd or even\n",
    "aviva\n",
    "```"
   ]
  },
  {
   "cell_type": "code",
   "execution_count": null,
   "metadata": {
    "collapsed": true
   },
   "outputs": [
    {
     "name": "stdout",
     "output_type": "stream",
     "text": [
      "was it a rat i saw?!?\n",
      "Are we not drawn onward, we few, drawn onward to new era?\n",
      "Never odd or even\n",
      "aviva\n"
     ]
    }
   ],
   "source": [
    "from copy import deepcopy\n",
    "\n",
    "#isalpha()\n",
    "def is_palindrome(original):\n",
    "    spectacles = [\" \",\",\",\".\",\";\",\"?\",\"!\",\"'\"]\n",
    "    judge = deepcopy(original)\n",
    "    judge = judge.lower()\n",
    "    judge = judge.strip()\n",
    "    for i in original:\n",
    "        if i in spectacles:\n",
    "            judge = judge.replace(i, '')\n",
    "        else:\n",
    "            judge = judge\n",
    "    return judge == judge[::-1]\n",
    "        \n",
    "'''    else:\n",
    "        return '''''\n",
    "\n",
    "filename = input(\"What is your file name?\")\n",
    "\n",
    "\n",
    "filein = open('./'+filename,'r')\n",
    "\n",
    "for line in filein:\n",
    "    line = line.strip()\n",
    "    if is_palindrome(line) == True:\n",
    "        print(line)\n",
    "filein.close()\n",
    "\n"
   ]
  },
  {
   "cell_type": "markdown",
   "metadata": {},
   "source": [
    "__Exercise 8.__ According to Wikipedia, a semordnilap is a word or phrase that spells a different word or phrase backwards. (\"Semordnilap\" is itself \"palindromes\" spelled backwards.) Write a semordnilap recogniser that accepts a file name from the user for a file containing a list of words, one per line. The program will read the file and find and print all pairs of words that are semordnilaps to the screen. \n",
    "\n",
    "For example, if \"stressed\" and \"desserts\" are part of the word list, the output should include the pair \"stressed desserts\". Note, by the way, that each pair by itself forms a palindrome. But it should output each pair only once, so if the program output \"stressed desserts\" it should not output \"desserts stressed\".\n",
    "\n",
    "You can test your program using the file: `semordnilap.txt`. It should return:\n",
    "\n",
    "```\n",
    "desserts stressed\n",
    "Semordnilap palindromes\n",
    "```"
   ]
  },
  {
   "cell_type": "code",
   "execution_count": null,
   "metadata": {
    "collapsed": true
   },
   "outputs": [
    {
     "name": "stdout",
     "output_type": "stream",
     "text": [
      "     aviva racecar              \n"
     ]
    }
   ],
   "source": [
    "#Skip"
   ]
  },
  {
   "cell_type": "markdown",
   "metadata": {},
   "source": [
    "__Exercise 9.__ Write a program that asks for a filename, reads all the words in the file, calculates the average word length and creates a histogram of words length. \n",
    "\n",
    "A histogram shows how many times you encountered a word of a given size. \n",
    "The output of the program should look like:\n",
    "\n",
    "```\n",
    "The file: filename contains X words, the average length of the words is: Y.\n",
    "Histogram of the word sizes:\n",
    "1: ***********\n",
    "2: ********\n",
    "3: *************\n",
    "4: *********\n",
    "....\n",
    "```\n",
    "\n",
    "I'll test using this file: text.txt. Your output should be:\n",
    "\n",
    "```\n",
    "The file text.txt contains 69 words, with an average word length of 5. Histogram of the word sizes:\n",
    "1: \n",
    "2: *************\n",
    "3: *****\n",
    "4: ***********\n",
    "5: **********\n",
    "6: *********\n",
    "7: ********\n",
    "8: ****\n",
    "9: ****\n",
    "10: **\n",
    "11: *\n",
    "12: *\n",
    "13: *\n",
    "```\n",
    "\n",
    "To do this, you need to find the size of each word, and then count all words of size 1, size 2, etc. Each ```*``` in each row in your histogram represents one occurrence of a word of that size."
   ]
  },
  {
   "cell_type": "code",
   "execution_count": 36,
   "metadata": {
    "collapsed": true
   },
   "outputs": [
    {
     "name": "stdout",
     "output_type": "stream",
     "text": [
      "The file: text.txt contains 69 words, the average length of the words is: 5.3478260869565215.\n",
      "Histogram of the word sizes:\n",
      "1: \n",
      "2: *************\n",
      "3: *****\n",
      "4: ***********\n",
      "5: **********\n",
      "6: *********\n",
      "7: ********\n",
      "8: ****\n",
      "9: ****\n",
      "10: **\n",
      "11: *\n",
      "12: *\n",
      "13: *\n"
     ]
    }
   ],
   "source": [
    "filename = input(\"Please enter your filename: \")\n",
    "file = open('./'+filename, 'r')\n",
    "\n",
    "\n",
    "wordcount = 0\n",
    "wordlengths = []\n",
    "punc = '''!()-[]{};:'\"\\,<>./?@#$%^&*_~'''\n",
    "\n",
    "for line in file:\n",
    "    line = line.replace(',','')\n",
    "    line = line.replace('.','')\n",
    "    words = line.strip().split()\n",
    "    for word in words:\n",
    "        if word.isalpha() == True:\n",
    "            wordcount += 1\n",
    "            wordlengths.append(len(word))\n",
    "        #else:\n",
    "            #continue\n",
    "\n",
    "average = sum(wordlengths) / wordcount\n",
    "print(f\"The file: {filename} contains {wordcount} words, the average length of the words is: {average}.\")\n",
    "\n",
    "\n",
    "histogram = {}\n",
    "for length in wordlengths:\n",
    "    if length not in histogram:\n",
    "        histogram[length] = 1\n",
    "    else:\n",
    "        histogram[length] += 1\n",
    "\n",
    "\n",
    "rangenum = 0\n",
    "rangenum = int(max(wordlengths))\n",
    "number = list(range(1,rangenum+1))\n",
    "for i in number:\n",
    "    if i not in histogram:\n",
    "        histogram[i] = 0\n",
    "    else:\n",
    "        histogram[i] = histogram[i]\n",
    "\n",
    "\n",
    "\n",
    "histogram = dict(sorted(histogram.items()))\n",
    "\n",
    "\n",
    "\n",
    "print(\"Histogram of the word sizes:\")\n",
    "for length, count in histogram.items():\n",
    "    print(f\"{length}: {'*' * count}\")\n",
    "\n",
    "#the use of dictionary & 'f' is inspired by openAI\n",
    "\n",
    "file.close()\n",
    "\n",
    "\n"
   ]
  },
  {
   "attachments": {},
   "cell_type": "markdown",
   "metadata": {},
   "source": [
    "__Exercise 10.__ Write a program able to play the \"Guess the number\" game, where the number to be guessed is randomly chosen between 1 and 20. This is how it should work when run:\n",
    "\n",
    "```\n",
    "Hello! What is your name?\n",
    "  Andre\n",
    "Well, Andre, I am thinking of a number between 1 and 20.\n",
    "Take a guess.\n",
    "  10\n",
    "Your guess is too low.\n",
    "Take a guess.\n",
    "  15\n",
    "Your guess is too low.\n",
    "Take a guess.\n",
    "  18\n",
    "Good job, Andre! You guessed my number in 3 guesses!\n",
    "```"
   ]
  },
  {
   "cell_type": "code",
   "execution_count": null,
   "metadata": {
    "collapsed": true
   },
   "outputs": [
    {
     "name": "stdout",
     "output_type": "stream",
     "text": [
      "OK, irene try to guess my number between 1 and 20!\n",
      "Your guess is 7 , but your guess is too high\n",
      "Great job! irene ! You guessed my number in 1 times!\n"
     ]
    }
   ],
   "source": [
    "import random as r\n",
    "def guessnumber():\n",
    "    number = r.randint(1,20)\n",
    "    name = input(\"Hi! What's your name?\")\n",
    "    print(\"OK,\", name, \"try to guess my number between 1 and 20!\")\n",
    "    guess = input (\"What's your guess?\")\n",
    "    guess = int(guess)\n",
    "    count = 0\n",
    "    while guess != number:\n",
    "        count = count + 1\n",
    "        if guess < number:\n",
    "            print (\"Your guess is\", guess, \", but your guess is too low\")\n",
    "            guess = input (\"What's your guess?\")\n",
    "            guess = int(guess)\n",
    "        elif guess > number:\n",
    "            print (\"Your guess is\", guess, \", but your guess is too high\")\n",
    "            guess = input (\"What's your guess?\")\n",
    "            guess = int(guess)\n",
    "    print (\"Great job!\", name, \"! You guessed my number in\", count, \"times!\" )\n",
    "\n",
    "guessnumber()\n",
    "\n"
   ]
  }
 ],
 "metadata": {
  "anaconda-cloud": {},
  "kernelspec": {
   "display_name": "Python 3",
   "language": "python",
   "name": "python3"
  },
  "language_info": {
   "codemirror_mode": {
    "name": "ipython",
    "version": 3
   },
   "file_extension": ".py",
   "mimetype": "text/x-python",
   "name": "python",
   "nbconvert_exporter": "python",
   "pygments_lexer": "ipython3",
   "version": "3.10.7"
  },
  "vscode": {
   "interpreter": {
    "hash": "aee8b7b246df8f9039afb4144a1f6fd8d2ca17a180786b69acc140d282b71a49"
   }
  }
 },
 "nbformat": 4,
 "nbformat_minor": 1
}
