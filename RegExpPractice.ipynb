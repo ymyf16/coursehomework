{
 "cells": [
  {
   "cell_type": "code",
   "execution_count": 1,
   "metadata": {},
   "outputs": [
    {
     "name": "stdout",
     "output_type": "stream",
     "text": [
      "Names:\n",
      "\t 7 Mr. Andre Cavalcanti (7, 27)\n",
      "\t 37 Mr. Anthony Cavalcanti (37, 59)\n",
      "Emails:\n",
      "\t 73 anthony@pomona.edu (73, 91)\n",
      "Dates:\n",
      "\t 102 2/3/2017 (102, 110)\n",
      "\t 167 12/03/17 (167, 175)\n",
      "\t 177 04/05/1976 (177, 187)\n",
      "Proper nouns:\n",
      "\t 1 Hello (1, 6)\n",
      "\t 7 Mr (7, 9)\n",
      "\t 11 Andre (11, 16)\n",
      "\t 17 Cavalcanti (17, 27)\n",
      "\t 37 Mr (37, 39)\n",
      "\t 41 Anthony (41, 48)\n",
      "\t 49 Cavalcanti (49, 59)\n",
      "\t 113 Other (113, 118)\n"
     ]
    }
   ],
   "source": [
    "import re\n",
    "\n",
    "text = \"\"\"\n",
    "Hello Mr. Andre Cavalcanti, this is Mr. Anthony Cavalcanti, my email is anthony@pomona.edu, today is 2/3/2017.\n",
    "\n",
    "Other dates can come anywhere in the text, like here: 12/03/17, 04/05/1976, etc.\n",
    "\n",
    "\"\"\"\n",
    "\n",
    "# find names in the string:\n",
    "print (\"Names:\")\n",
    "for m in re.finditer('Mr\\.\\s(\\w+)\\s(\\w+)',text):\n",
    "    print('\\t', m.start(), m.group(), m.span())\n",
    "# find emails:\n",
    "print (\"Emails:\")\n",
    "for m in re.finditer('(\\w+)@(\\w+)\\.(\\w+)',text):\n",
    "    print('\\t', m.start(), m.group(), m.span())\n",
    "# Find date:\n",
    "print (\"Dates:\")\n",
    "for m in re.finditer('(\\d+)/(\\d+)/(\\d+)',text):\n",
    "    print('\\t', m.start(), m.group(), m.span())\n",
    "    \n",
    "print (\"Proper nouns:\")\n",
    "for m in re.finditer('[A-Z]\\w+',text):\n",
    "    print('\\t', m.start(), m.group(), m.span())\n",
    "\n",
    "#don't know how to exclude those with capitals only because they are at the beginning of sentence\n"
   ]
  }
 ],
 "metadata": {
  "kernelspec": {
   "display_name": "base",
   "language": "python",
   "name": "python3"
  },
  "language_info": {
   "codemirror_mode": {
    "name": "ipython",
    "version": 3
   },
   "file_extension": ".py",
   "mimetype": "text/x-python",
   "name": "python",
   "nbconvert_exporter": "python",
   "pygments_lexer": "ipython3",
   "version": "3.9.12"
  },
  "orig_nbformat": 4
 },
 "nbformat": 4,
 "nbformat_minor": 2
}
