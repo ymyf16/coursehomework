{
 "cells": [
  {
   "cell_type": "code",
   "execution_count": 8,
   "metadata": {},
   "outputs": [],
   "source": [
    "def dilution():\n",
    "\n",
    "    \"\"\"\n",
    "    should receive initial concentration, final concentration, and final volume & return initial volume needed\n",
    "    if further, should return a range of initial volumes (a list of whole numbers) corresponding to a range of final volumes\n",
    "    further further, return volumes with the best units (L, ml, or ul)\n",
    "    \"\"\"\n",
    "    Ci = input(\"Initial concentration: \")\n",
    "    uCi = input(\"unit: \")\n",
    "    Cf = input(\"Desired final concentration: \")\n",
    "    uCf = input(\"unit: \")\n",
    "    Vf = input(\"Desired final volume: \")\n",
    "    uVf = input(\"unit: \")\n",
    "\n",
    "    Ci = int(Ci)\n",
    "    Cf = int(Cf)\n",
    "    Vf = int(Vf)\n",
    "    uVi = uVf  \n",
    "    newCi = unitconvert(uCi, uCf, Ci)\n",
    "\n",
    "    Vi = (Cf * Vf)/newCi\n",
    "    print (\"You should add\", Vi, uVi, \"of\", Ci, uCi, \"stock solution\") \n",
    "    print (\"and\", Vf-Vi, uVi, \"water\" )\n",
    "\n",
    "\n",
    "def unitconvert(uCi, uCf, Ci):\n",
    "    newCi = 0\n",
    "    if uCi == uCf:\n",
    "        newCi = Ci\n",
    "    else:\n",
    "        if uCi == 'M' or 'm':\n",
    "            if uCf == 'mM' or 'mm':\n",
    "                newCi = 1000 * Ci\n",
    "            elif uCf == 'uM' or 'um':\n",
    "                newCi = 1000*1000*Ci\n",
    "        elif uCi == 'mM' or 'mm':\n",
    "            if uCf == 'uM' or 'um':\n",
    "                newCi = 1000*Ci\n",
    "\n",
    "    return newCi\n",
    "\n",
    "\n",
    "def serial(x):\n",
    "    \"\"\"\n",
    "    receive a desired proportion and returns a series of dilution steps that can help dilute to the set value\n",
    "    \"\"\"\n",
    "    \n",
    "    if x//10 <= 10:\n",
    "        print (\"You should add\", 100/x, \"ul of solution and\", 100*(x-1)/x, \"ul of ethanol.(1:\",x,\")\")\n",
    "    elif x//10 > 10 and x//100 <= 100:\n",
    "        serial(100)\n",
    "        print (\"Then,\")\n",
    "        serial(x//100)\n",
    "    else:\n",
    "        print (\"Too big! Is it necessary?\")\n",
    "\n",
    "   "
   ]
  },
  {
   "cell_type": "code",
   "execution_count": 9,
   "metadata": {},
   "outputs": [
    {
     "name": "stdout",
     "output_type": "stream",
     "text": [
      "You should add 1.0 ul of solution and 99.0 ul of ethanol.(1: 100 )\n",
      "Then,\n",
      "You should add 25.0 ul of solution and 75.0 ul of ethanol.(1: 4 )\n"
     ]
    }
   ],
   "source": [
    "serial(400)"
   ]
  }
 ],
 "metadata": {
  "kernelspec": {
   "display_name": "Python 3",
   "language": "python",
   "name": "python3"
  },
  "language_info": {
   "codemirror_mode": {
    "name": "ipython",
    "version": 3
   },
   "file_extension": ".py",
   "mimetype": "text/x-python",
   "name": "python",
   "nbconvert_exporter": "python",
   "pygments_lexer": "ipython3",
   "version": "3.10.7 (v3.10.7:6cc6b13308, Sep  5 2022, 14:02:52) [Clang 13.0.0 (clang-1300.0.29.30)]"
  },
  "orig_nbformat": 4,
  "vscode": {
   "interpreter": {
    "hash": "aee8b7b246df8f9039afb4144a1f6fd8d2ca17a180786b69acc140d282b71a49"
   }
  }
 },
 "nbformat": 4,
 "nbformat_minor": 2
}
